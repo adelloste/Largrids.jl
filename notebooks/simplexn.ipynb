{
 "cells": [
  {
   "cell_type": "markdown",
   "metadata": {},
   "source": [
    "# Simplexn"
   ]
  },
  {
   "cell_type": "code",
   "execution_count": 1,
   "metadata": {},
   "outputs": [
    {
     "name": "stderr",
     "output_type": "stream",
     "text": [
      "┌ Info: Precompiling LinearAlgebraicRepresentation [95167b0c-186a-594b-a231-52369c6de044]\n",
      "└ @ Base loading.jl:1423\n"
     ]
    },
    {
     "data": {
      "text/plain": [
       "LinearAlgebraicRepresentation"
      ]
     },
     "execution_count": 1,
     "metadata": {},
     "output_type": "execute_result"
    }
   ],
   "source": [
    "using BenchmarkTools\n",
    "using LinearAlgebra\n",
    "using LinearAlgebraicRepresentation\n",
    "Lar = LinearAlgebraicRepresentation"
   ]
  },
  {
   "cell_type": "markdown",
   "metadata": {},
   "source": [
    "## simplexFacets(simplices::Cells)::Cells\n",
    "Compute the `(d-1)`-skeleton (unoriented set of `facets`) of a simplicial `d`-complex."
   ]
  },
  {
   "cell_type": "code",
   "execution_count": 2,
   "metadata": {},
   "outputs": [
    {
     "data": {
      "text/plain": [
       "simplexFacets (generic function with 1 method)"
      ]
     },
     "execution_count": 2,
     "metadata": {},
     "output_type": "execute_result"
    }
   ],
   "source": [
    "function simplexFacets(simplices)\n",
    "\tout = Array{Int64,1}[]\n",
    "\tfor simplex in simplices\n",
    "\t\tfor v in simplex\n",
    "\t\t\tfacet = setdiff(simplex,v)\n",
    "\t\t\tpush!(out, facet)\n",
    "\t\tend\n",
    "\tend\n",
    "\t# remove duplicate facets\n",
    "\treturn sort(collect(Set(out)))\n",
    "end"
   ]
  },
  {
   "cell_type": "code",
   "execution_count": null,
   "metadata": {},
   "outputs": [],
   "source": [
    "@btime simplexFacets([[1, 2, 3, 5],[2, 3, 5, 6],[3, 5, 6, 7],[2, 3, 4, 6],[3, 4, 6, 7],[4, 6, 7, 8]])"
   ]
  },
  {
   "cell_type": "markdown",
   "metadata": {},
   "source": [
    "## simplex(n::Int, fullmodel=false::Bool)::Union{Lar.LAR, Lar.LARmodel}\n",
    "Return a `LAR` model of the *`n`-dimensional simplex* in *`n`-space*.\n",
    "\n",
    "When `fullmodel==true` return a `LARmodel`, including the faces, from dimension `1` to `n`."
   ]
  },
  {
   "cell_type": "code",
   "execution_count": 3,
   "metadata": {},
   "outputs": [
    {
     "data": {
      "text/plain": [
       "simplex (generic function with 2 methods)"
      ]
     },
     "execution_count": 3,
     "metadata": {},
     "output_type": "execute_result"
    }
   ],
   "source": [
    "function simplex(n, fullmodel=false)\n",
    "\teye(n) = LinearAlgebra.Matrix{Int}(I,n,n)\n",
    "\tV = [zeros(n,1) eye(n)]\n",
    "\tCV = [collect(1:n+1)]\n",
    "\tif fullmodel == false\n",
    "\t\treturn V,CV\n",
    "\telse\n",
    "\t\th = n\n",
    "\t\tcells = [CV]\n",
    "\t\twhile h != 0\n",
    "\t\t\tpush!(cells, simplexFacets(cells[end]))\n",
    "\t\t\th -= 1\n",
    "\t\tend\n",
    "\t\treturn V,reverse(cells)\n",
    "\tend\n",
    "end"
   ]
  },
  {
   "cell_type": "code",
   "execution_count": 9,
   "metadata": {},
   "outputs": [
    {
     "name": "stdout",
     "output_type": "stream",
     "text": [
      "  9.889 μs (184 allocations: 18.27 KiB)\n"
     ]
    },
    {
     "data": {
      "text/plain": [
       "([0.0 1.0 0.0 0.0; 0.0 0.0 1.0 0.0; 0.0 0.0 0.0 1.0], [[[1], [2], [3], [4]], [[1, 2], [1, 3], [1, 4], [2, 3], [2, 4], [3, 4]], [[1, 2, 3], [1, 2, 4], [1, 3, 4], [2, 3, 4]], [[1, 2, 3, 4]]])"
      ]
     },
     "execution_count": 9,
     "metadata": {},
     "output_type": "execute_result"
    }
   ],
   "source": [
    "@btime simplex(3, true)"
   ]
  },
  {
   "cell_type": "markdown",
   "metadata": {},
   "source": [
    "## extrudeSimplicial(model::LAR, pattern::Array)::LAR\n",
    "Algorithm for multimensional extrusion of a simplicial complex.\n",
    "Can be applied to 0-, 1-, 2-, ... simplicial models, to get a 1-, 2-, 3-, .... model."
   ]
  },
  {
   "cell_type": "code",
   "execution_count": 5,
   "metadata": {},
   "outputs": [
    {
     "data": {
      "text/plain": [
       "extrudeSimplicial (generic function with 2 methods)"
      ]
     },
     "execution_count": 5,
     "metadata": {},
     "output_type": "execute_result"
    }
   ],
   "source": [
    "function extrudeSimplicial(model::Lar.LAR, pattern)\n",
    "    V = [model[1][:,k] for k=1:size(model[1],2)]\n",
    "    FV = model[2]\n",
    "    d, m = length(FV[1]), length(pattern)\n",
    "    coords = collect(cumsum(append!([0], abs.(pattern))))\n",
    "    offset, outcells, rangelimit, i = length(V), [], d*m, 0\n",
    "    for cell in FV\n",
    "        i += 1\n",
    "        tube = [v+k*offset for k in range(0, length=m+1) for v in cell]\n",
    "        cellTube = [tube[k:k+d] for k in range(1, length=rangelimit)]\n",
    "        if i==1 outcells = reshape(cellTube, d, m)\n",
    "        else outcells = vcat(outcells, reshape(cellTube, d, m)) end\n",
    "    end\n",
    "    cellGroups = []\n",
    "    for i in 1:size(outcells, 2)\n",
    "        if pattern[i]>0\n",
    "            cellGroups = vcat(cellGroups, outcells[:, i])\n",
    "        end\n",
    "    end\n",
    "    outVertices = [vcat(v, [z]) for z in coords for v in V]\n",
    "    cellGroups = convert(Array{Array{Int, 1}, 1}, cellGroups)\n",
    "    outModel = outVertices, cellGroups\n",
    "    hcat(outVertices...), cellGroups\n",
    "end\n",
    "function extrudeSimplicial(model::Union{Any,Lar.Cells}, pattern)\n",
    "    V,FV = model\n",
    "    d, m = length(FV[1]), length(pattern)\n",
    "    coords = collect(cumsum(append!([0], abs.(pattern))))\n",
    "    offset, outcells, rangelimit, i = length(V), [], d*m, 0\n",
    "    for cell in FV\n",
    "        i += 1\n",
    "        tube = [v+k*offset for k in range(0, length=m+1) for v in cell]\n",
    "        cellTube = [tube[k:k+d] for k in range(1, length=rangelimit)]\n",
    "        if i==1 outcells = reshape(cellTube, d, m)\n",
    "        else outcells = vcat(outcells, reshape(cellTube, d, m)) end\n",
    "    end\n",
    "    cellGroups = []\n",
    "    for i in 1:size(outcells, 2)\n",
    "        if pattern[i]>0\n",
    "            cellGroups = vcat(cellGroups, outcells[:, i])\n",
    "        end\n",
    "    end\n",
    "    outVertices = [vcat(v, [z]) for z in coords for v in V]\n",
    "    cellGroups = convert(Array{Array{Int, 1}, 1}, cellGroups)\n",
    "    outModel = outVertices, cellGroups\n",
    "    hcat(outVertices...), cellGroups\n",
    "end"
   ]
  },
  {
   "cell_type": "code",
   "execution_count": 39,
   "metadata": {},
   "outputs": [
    {
     "name": "stdout",
     "output_type": "stream",
     "text": [
      "  35.723 μs (560 allocations: 67.77 KiB)\n"
     ]
    },
    {
     "data": {
      "text/plain": [
       "([0 1 … 1 2; 0 0 … 2 2; 0 0 … 24 24], [[1, 2, 4, 10], [2, 4, 10, 11], [4, 10, 11, 13], [2, 3, 5, 11], [3, 5, 11, 12], [5, 11, 12, 14], [3, 5, 6, 12], [5, 6, 12, 14], [6, 12, 14, 15], [4, 5, 7, 13]  …  [96, 102, 104, 105], [94, 95, 97, 103], [95, 97, 103, 104], [97, 103, 104, 106], [95, 97, 98, 104], [97, 98, 104, 106], [98, 104, 106, 107], [96, 98, 99, 105], [98, 99, 105, 107], [99, 105, 107, 108]])"
      ]
     },
     "execution_count": 39,
     "metadata": {},
     "output_type": "execute_result"
    }
   ],
   "source": [
    "pattern = repeat([1,2,-3],outer=4)\n",
    "@btime extrudeSimplicial(([[0,0] [1,0] [2,0] [0,1] [1,1] [2,1] [0,2] [1,2] [2,2]], [[1,2,4],[2,3,5],[3,5,6],[4,5,7],[5,7,8],[6,8,9]]), pattern)"
   ]
  },
  {
   "cell_type": "markdown",
   "metadata": {},
   "source": [
    "## simplexGrid(shape::Array)::LAR\n",
    "Generate a simplicial complex decomposition of a cubical grid of ``d``-cuboids, where ``d`` is the length of `shape` array."
   ]
  },
  {
   "cell_type": "code",
   "execution_count": 6,
   "metadata": {},
   "outputs": [
    {
     "data": {
      "text/plain": [
       "simplexGrid (generic function with 1 method)"
      ]
     },
     "execution_count": 6,
     "metadata": {},
     "output_type": "execute_result"
    }
   ],
   "source": [
    "function simplexGrid(shape)\n",
    "    model = [[]], [[1]]\n",
    "    for item in shape\n",
    "        model = extrudeSimplicial(model, fill(1, item))\n",
    "    end\n",
    "    V, CV = model\n",
    "    V = convert(Array{Float64,2}, V)\n",
    "    return V, CV\n",
    "end"
   ]
  },
  {
   "cell_type": "code",
   "execution_count": 8,
   "metadata": {},
   "outputs": [
    {
     "name": "stdout",
     "output_type": "stream",
     "text": [
      "  7.637 μs (138 allocations: 9.47 KiB)\n"
     ]
    },
    {
     "data": {
      "text/plain": [
       "([0.0 1.0 … 0.0 1.0; 0.0 0.0 … 1.0 1.0; 0.0 0.0 … 1.0 1.0], [[1, 2, 3, 5], [2, 3, 5, 6], [3, 5, 6, 7], [2, 3, 4, 6], [3, 4, 6, 7], [4, 6, 7, 8]])"
      ]
     },
     "execution_count": 8,
     "metadata": {},
     "output_type": "execute_result"
    }
   ],
   "source": [
    "@btime simplexGrid([1,1,1])"
   ]
  },
  {
   "cell_type": "markdown",
   "metadata": {},
   "source": [
    "## quads2triangles(quads::Cells)::Cells\n",
    "Convert an array of *quads* with type `::Lar.Cells` into an array of *triangles* with the same type."
   ]
  },
  {
   "cell_type": "code",
   "execution_count": 25,
   "metadata": {},
   "outputs": [
    {
     "data": {
      "text/plain": [
       "quads2triangles (generic function with 1 method)"
      ]
     },
     "execution_count": 25,
     "metadata": {},
     "output_type": "execute_result"
    }
   ],
   "source": [
    "function quads2triangles(quads::Lar.Cells)::Lar.Cells\n",
    "\tpairs = [[ Int[v1,v2,v3], Int[v3,v2,v4]] for (v1,v2,v3,v4) in quads ]\n",
    "\treturn cat(pairs)\n",
    "end"
   ]
  },
  {
   "cell_type": "code",
   "execution_count": 35,
   "metadata": {},
   "outputs": [
    {
     "ename": "LoadError",
     "evalue": "UndefKeywordError: keyword argument dims not assigned",
     "output_type": "error",
     "traceback": [
      "UndefKeywordError: keyword argument dims not assigned",
      "",
      "Stacktrace:",
      " [1] cat",
      "   @ ./abstractarray.jl:1861 [inlined]",
      " [2] quads2triangles(quads::Vector{Vector{Int64}})",
      "   @ Main ./In[25]:3",
      " [3] top-level scope",
      "   @ In[35]:2",
      " [4] eval",
      "   @ ./boot.jl:373 [inlined]",
      " [5] include_string(mapexpr::typeof(REPL.softscope), mod::Module, code::String, filename::String)",
      "   @ Base ./loading.jl:1196"
     ]
    }
   ],
   "source": [
    "V,FV = Lar.cuboidGrid([4,5])\n",
    "triangles = quads2triangles(FV)"
   ]
  },
  {
   "cell_type": "markdown",
   "metadata": {},
   "source": [
    "## simplexFacets(simplices::Vector{Int64})::Vector{Vector{Int64}}\n",
    "Compute the `(d-1)`-skeleton (unoriented set of `facets`) of a simplicial `d`-complex."
   ]
  },
  {
   "cell_type": "code",
   "execution_count": 15,
   "metadata": {},
   "outputs": [
    {
     "data": {
      "text/plain": [
       "simplexFacets (generic function with 1 method)"
      ]
     },
     "execution_count": 15,
     "metadata": {},
     "output_type": "execute_result"
    }
   ],
   "source": [
    "function simplexFacets(simplices)\n",
    "    out = Array{Int64,1}[]\n",
    "\tfor simplex in simplices\n",
    "\t\tfor v in simplex\n",
    "\t\t\tfacet = setdiff(simplex,v)\n",
    "\t\t\tpush!(out, facet)\n",
    "\t\tend\n",
    "\tend\n",
    "\t# remove duplicate facets\n",
    "\treturn sort(collect(Set(out)))\n",
    "end"
   ]
  },
  {
   "cell_type": "code",
   "execution_count": 22,
   "metadata": {},
   "outputs": [
    {
     "name": "stdout",
     "output_type": "stream",
     "text": [
      "  8.703 μs (140 allocations: 14.29 KiB)\n"
     ]
    },
    {
     "data": {
      "text/plain": [
       "18-element Vector{Vector{Int64}}:\n",
       " [1, 2, 3]\n",
       " [1, 2, 5]\n",
       " [1, 3, 5]\n",
       " [2, 3, 4]\n",
       " [2, 3, 5]\n",
       " [2, 3, 6]\n",
       " [2, 4, 6]\n",
       " [2, 5, 6]\n",
       " [3, 4, 6]\n",
       " [3, 4, 7]\n",
       " [3, 5, 6]\n",
       " [3, 5, 7]\n",
       " [3, 6, 7]\n",
       " [4, 6, 7]\n",
       " [4, 6, 8]\n",
       " [4, 7, 8]\n",
       " [5, 6, 7]\n",
       " [6, 7, 8]"
      ]
     },
     "execution_count": 22,
     "metadata": {},
     "output_type": "execute_result"
    }
   ],
   "source": [
    "@btime simplexFacets([[1, 2, 3, 5],[2, 3, 5, 6],[3, 5, 6, 7],[2, 3, 4, 6],[3, 4, 6, 7],[4, 6, 7, 8]])"
   ]
  },
  {
   "cell_type": "code",
   "execution_count": null,
   "metadata": {},
   "outputs": [],
   "source": [
    "prova"
   ]
  }
 ],
 "metadata": {
  "kernelspec": {
   "display_name": "Julia 1.7.2",
   "language": "julia",
   "name": "julia-1.7"
  },
  "language_info": {
   "file_extension": ".jl",
   "mimetype": "application/julia",
   "name": "julia",
   "version": "1.7.2"
  }
 },
 "nbformat": 4,
 "nbformat_minor": 3
}
