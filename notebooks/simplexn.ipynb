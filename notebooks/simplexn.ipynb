{
 "cells": [
  {
   "cell_type": "markdown",
   "metadata": {},
   "source": [
    "# Simplexn"
   ]
  },
  {
   "cell_type": "code",
   "execution_count": null,
   "metadata": {},
   "outputs": [],
   "source": [
    "using BenchmarkTools\n",
    "using SparseArrays\n",
    "using LinearAlgebra\n",
    "using LinearAlgebraicRepresentation\n",
    "Lar = LinearAlgebraicRepresentation"
   ]
  },
  {
   "cell_type": "markdown",
   "metadata": {},
   "source": [
    "## simplexFacets(simplices::Cells)::Cells\n",
    "Genera il `(d-1)`-scheletro (insieme delle `faccette`) di un `d`-complesso simpliciale.\n",
    "\n",
    "Ogni faccetta è generata come differenza tra uno dei `d`-simplessi di `simplices` e uno dei suoi vertici `v` tramite la funzione `setdiff`. In questo modo si ottiene una `facet` di dimensione `d-1` rispetto al simplesso da cui è generata.\n",
    "\n",
    "Ogni faccetta è poi aggiunta a un array (`push!`) che viene restituito come output dopo essere stato ordinato."
   ]
  },
  {
   "cell_type": "code",
   "execution_count": null,
   "metadata": {},
   "outputs": [],
   "source": [
    "function simplexFacets(simplices)\n",
    "\tout = Array{Int64,1}[]\n",
    "\tfor simplex in simplices\n",
    "\t\tfor v in simplex\n",
    "\t\t\tfacet = setdiff(simplex,v)\n",
    "\t\t\tpush!(out, facet)\n",
    "\t\tend\n",
    "\tend\n",
    "\t# remove duplicate facets\n",
    "\treturn sort(collect(Set(out)))\n",
    "end"
   ]
  },
  {
   "cell_type": "code",
   "execution_count": null,
   "metadata": {},
   "outputs": [],
   "source": [
    "@btime simplexFacets([[1, 2, 3, 5],[2, 3, 5, 6],[3, 5, 6, 7],[2, 3, 4, 6],[3, 4, 6, 7],[4, 6, 7, 8]])"
   ]
  },
  {
   "cell_type": "markdown",
   "metadata": {},
   "source": [
    "## simplex(n::Int, fullmodel=false::Bool)::Union{Lar.LAR, Lar.LARmodel}\n",
    "Genera il modello `LAR` di un simplesso `n`-dimensionale in un `n`-spazio.\n",
    "\n",
    "Restituisce `V`, la matrice dei vertici, e `CV`, la cella che rappresenta il simplesso. Se il parametro `fullmodel==true`, allora `CV` viene arricchito con tutte le facce del simplesso di dimensione da `1` a `n` con l'utilizzo della funzione `simplexFacets`."
   ]
  },
  {
   "cell_type": "code",
   "execution_count": null,
   "metadata": {},
   "outputs": [],
   "source": [
    "function simplex(n, fullmodel=false)\n",
    "\teye(n) = LinearAlgebra.Matrix{Int}(I,n,n)\n",
    "\tV = [zeros(n,1) eye(n)]\n",
    "\tCV = [collect(1:n+1)]\n",
    "\tif fullmodel == false\n",
    "\t\treturn V,CV\n",
    "\telse\n",
    "\t\th = n\n",
    "\t\tcells = [CV]\n",
    "\t\twhile h != 0\n",
    "\t\t\tpush!(cells, simplexFacets(cells[end]))\n",
    "\t\t\th -= 1\n",
    "\t\tend\n",
    "\t\treturn V,reverse(cells)\n",
    "\tend\n",
    "end"
   ]
  },
  {
   "cell_type": "code",
   "execution_count": null,
   "metadata": {},
   "outputs": [],
   "source": [
    "@btime simplex(3, true)"
   ]
  },
  {
   "cell_type": "markdown",
   "metadata": {},
   "source": [
    "## extrudeSimplicial(model::LAR, pattern::Array)::LAR\n",
    "Algoritmo per l'estrusione di un complesso simpliciale. Può essere applicato a modelli `0`-, `1`-, `2`-, ... dimensionali per ottenere modelli di dimensione superiore (`1`-, `2`-, `3`-, ...).\n",
    "\n"
   ]
  },
  {
   "cell_type": "code",
   "execution_count": null,
   "metadata": {},
   "outputs": [],
   "source": [
    "function extrudeSimplicial(model::Lar.LAR, pattern)\n",
    "    V = [model[1][:,k] for k=1:size(model[1],2)]\n",
    "    FV = model[2]\n",
    "    d, m = length(FV[1]), length(pattern)\n",
    "    coords = collect(cumsum(append!([0], abs.(pattern))))\n",
    "    offset, outcells, rangelimit, i = length(V), [], d*m, 0\n",
    "    for cell in FV\n",
    "        i += 1\n",
    "        tube = [v+k*offset for k in range(0, length=m+1) for v in cell]\n",
    "        cellTube = [tube[k:k+d] for k in range(1, length=rangelimit)]\n",
    "        if i==1 outcells = reshape(cellTube, d, m)\n",
    "        else outcells = vcat(outcells, reshape(cellTube, d, m)) end\n",
    "    end\n",
    "    cellGroups = []\n",
    "    for i in 1:size(outcells, 2)\n",
    "        if pattern[i]>0\n",
    "            cellGroups = vcat(cellGroups, outcells[:, i])\n",
    "        end\n",
    "    end\n",
    "    outVertices = [vcat(v, [z]) for z in coords for v in V]\n",
    "    cellGroups = convert(Array{Array{Int, 1}, 1}, cellGroups)\n",
    "    outModel = outVertices, cellGroups\n",
    "    hcat(outVertices...), cellGroups\n",
    "end\n",
    "function extrudeSimplicial(model::Union{Any,Lar.Cells}, pattern)\n",
    "    V,FV = model\n",
    "    d, m = length(FV[1]), length(pattern)\n",
    "    coords = collect(cumsum(append!([0], abs.(pattern))))\n",
    "    offset, outcells, rangelimit, i = length(V), [], d*m, 0\n",
    "    for cell in FV\n",
    "        i += 1\n",
    "        tube = [v+k*offset for k in range(0, length=m+1) for v in cell]\n",
    "        cellTube = [tube[k:k+d] for k in range(1, length=rangelimit)]\n",
    "        if i==1 outcells = reshape(cellTube, d, m)\n",
    "        else outcells = vcat(outcells, reshape(cellTube, d, m)) end\n",
    "    end\n",
    "    cellGroups = []\n",
    "    for i in 1:size(outcells, 2)\n",
    "        if pattern[i]>0\n",
    "            cellGroups = vcat(cellGroups, outcells[:, i])\n",
    "        end\n",
    "    end\n",
    "    outVertices = [vcat(v, [z]) for z in coords for v in V]\n",
    "    cellGroups = convert(Array{Array{Int, 1}, 1}, cellGroups)\n",
    "    outModel = outVertices, cellGroups\n",
    "    hcat(outVertices...), cellGroups\n",
    "end"
   ]
  },
  {
   "cell_type": "code",
   "execution_count": null,
   "metadata": {},
   "outputs": [],
   "source": [
    "pattern = repeat([1,2,-3],outer=4)\n",
    "@btime extrudeSimplicial(([[0,0] [1,0] [2,0] [0,1] [1,1] [2,1] [0,2] [1,2] [2,2]], [[1,2,4],[2,3,5],[3,5,6],[4,5,7],[5,7,8],[6,8,9]]), pattern)"
   ]
  },
  {
   "cell_type": "markdown",
   "metadata": {},
   "source": [
    "## simplexGrid(shape::Array)::LAR\n",
    "Genera una decomposizione simpliciale di una griglia cubica formata da `d`-cuboidi, dove `d` è la lunghezza dell'array `shape`, parametro in input che definisce la forma della griglia.\n",
    "\n",
    "Facendo uso di `extrudeSimplicial` si ottiene un modello LAR del complesso simpliciale formato da vertici `V` e celle `CV`."
   ]
  },
  {
   "cell_type": "code",
   "execution_count": null,
   "metadata": {},
   "outputs": [],
   "source": [
    "function simplexGrid(shape)\n",
    "    model = [[]], [[1]]\n",
    "    for item in shape\n",
    "        model = extrudeSimplicial(model, fill(1, item))\n",
    "    end\n",
    "    V, CV = model\n",
    "    V = convert(Array{Float64,2}, V)\n",
    "    return V, CV\n",
    "end"
   ]
  },
  {
   "cell_type": "code",
   "execution_count": null,
   "metadata": {},
   "outputs": [],
   "source": [
    "@btime simplexGrid([1,1,1])"
   ]
  },
  {
   "cell_type": "markdown",
   "metadata": {},
   "source": [
    "## quads2triangles(quads::Cells)::Cells\n",
    "Converte una sequenza di quadrilateri in una sequenza di triangoli, entrambi di tipo `Lar.Cells`.\n",
    "\n",
    "Da ogni quadrilatero, dati i suoi 4 vertici, sono estratti 2 triangoli rimuovendo il primo e l'ultimo dei 4 vertici dalla cella."
   ]
  },
  {
   "cell_type": "code",
   "execution_count": null,
   "metadata": {},
   "outputs": [],
   "source": [
    "function quads2triangles(quads::Lar.Cells)::Lar.Cells\n",
    "\tpairs = [[ Int[v1,v2,v3], Int[v3,v2,v4]] for (v1,v2,v3,v4) in quads ]\n",
    "\treturn cat(pairs, dims = 4)\n",
    "end"
   ]
  },
  {
   "cell_type": "code",
   "execution_count": null,
   "metadata": {},
   "outputs": [],
   "source": [
    "V,FV = Lar.cuboidGrid([4,5])\n",
    "triangles = quads2triangles(FV)"
   ]
  },
  {
   "cell_type": "markdown",
   "metadata": {},
   "source": [
    "## sparsetranspose(S::SparseMatrixCSC{Int8,Int64})::SparseMatrixCSC{Int8,Int64}\n",
    "Crea la matrice trasposta di una matrice sparsa.\n",
    "\n",
    "La trasforma inizalmente in una matrice sparsa astratta rappresentata tramite una tupla `(I, J, V)` dove `I` e `J` indicizzano righe e colonne e `V` è il vettore dei valori. Infine la funzione `sparse` la trasforma una matrice sparsa invertendo `I` e `V` creando così una matrice trasposta.\n"
   ]
  },
  {
   "cell_type": "code",
   "execution_count": null,
   "metadata": {},
   "outputs": [],
   "source": [
    "function sparsetranspose(S::SparseMatrixCSC{Int8,Int64})::SparseMatrixCSC{Int8,Int64}\n",
    "\tI,J,V = SparseArrays.findnz(S)\n",
    "\treturn SparseArrays.sparse(J,I,V)\n",
    "end"
   ]
  },
  {
   "cell_type": "markdown",
   "metadata": {},
   "source": [
    "## simplexBoundary_3(CV,FV)"
   ]
  },
  {
   "cell_type": "code",
   "execution_count": null,
   "metadata": {},
   "outputs": [],
   "source": [
    "function simplexBoundary_3(CV,FV)\n",
    "\tK_2 = Lar.characteristicMatrix(FV)\n",
    "\tK_3 = Lar.characteristicMatrix(CV)\n",
    "\n",
    "\tFC = K_2 * sparsetranspose(K_3)\n",
    "\n",
    "\tI,J,Vs = SparseArrays.findnz(FC)\n",
    "\ttriples = hcat([[I[k],J[k],1] for k=1:length(Vs) if Vs[k]==3]...)\n",
    "\tsimplBoundary_3 =\n",
    "\t\tSparseArrays.sparse(triples[1,:],triples[2,:],triples[3,:])\n",
    "\n",
    "\tchain_3 = ones(Int,length(CV))\n",
    "\tincidence_numbers = simplBoundary_3 * chain_3\n",
    "\tchain_2 = [k for k=1:length(incidence_numbers) if incidence_numbers[k]==1]\n",
    "\n",
    "\treturn boundary_triangles = FV[chain_2]\n",
    "end"
   ]
  }
 ],
 "metadata": {
  "kernelspec": {
   "display_name": "Julia 1.7.2",
   "language": "julia",
   "name": "julia-1.7"
  },
  "language_info": {
   "file_extension": ".jl",
   "mimetype": "application/julia",
   "name": "julia",
   "version": "1.7.2"
  }
 },
 "nbformat": 4,
 "nbformat_minor": 3
}
