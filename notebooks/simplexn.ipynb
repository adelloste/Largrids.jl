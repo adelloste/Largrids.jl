{
 "cells": [
  {
   "cell_type": "markdown",
   "metadata": {},
   "source": [
    "# Simplexn"
   ]
  },
  {
   "cell_type": "code",
   "execution_count": null,
   "metadata": {},
   "outputs": [],
   "source": [
    "using BenchmarkTools\n",
    "using LinearAlgebra\n",
    "using LinearAlgebraicRepresentation\n",
    "Lar = LinearAlgebraicRepresentation"
   ]
  },
  {
   "cell_type": "markdown",
   "metadata": {},
   "source": [
    "## simplexFacets(simplices::Cells)::Cells\n",
    "Compute the `(d-1)`-skeleton (unoriented set of `facets`) of a simplicial `d`-complex."
   ]
  },
  {
   "cell_type": "code",
   "execution_count": null,
   "metadata": {},
   "outputs": [],
   "source": [
    "function simplexFacets(simplices)\n",
    "\tout = Array{Int64,1}[]\n",
    "\tfor simplex in simplices\n",
    "\t\tfor v in simplex\n",
    "\t\t\tfacet = setdiff(simplex,v)\n",
    "\t\t\tpush!(out, facet)\n",
    "\t\tend\n",
    "\tend\n",
    "\t# remove duplicate facets\n",
    "\treturn sort(collect(Set(out)))\n",
    "end"
   ]
  },
  {
   "cell_type": "markdown",
   "metadata": {},
   "source": [
    "## simplex(n::Int, fullmodel=false::Bool)::Union{Lar.LAR, Lar.LARmodel}\n",
    "Return a `LAR` model of the *`n`-dimensional simplex* in *`n`-space*.\n",
    "\n",
    "When `fullmodel==true` return a `LARmodel`, including the faces, from dimension `1` to `n`."
   ]
  },
  {
   "cell_type": "code",
   "execution_count": null,
   "metadata": {},
   "outputs": [],
   "source": [
    "function simplex(n, fullmodel=false)\n",
    "\teye(n) = LinearAlgebra.Matrix{Int}(I,n,n)\n",
    "\tV = [zeros(n,1) eye(n)]\n",
    "\tCV = [collect(1:n+1)]\n",
    "\tif fullmodel == false\n",
    "\t\treturn V,CV\n",
    "\telse\n",
    "\t\th = n\n",
    "\t\tcells = [CV]\n",
    "\t\twhile h != 0\n",
    "\t\t\tpush!(cells, simplexFacets(cells[end]))\n",
    "\t\t\th -= 1\n",
    "\t\tend\n",
    "\t\treturn V,reverse(cells)\n",
    "\tend\n",
    "end"
   ]
  },
  {
   "cell_type": "code",
   "execution_count": null,
   "metadata": {},
   "outputs": [],
   "source": [
    "@btime simplex(3, true)"
   ]
  },
  {
   "cell_type": "markdown",
   "metadata": {},
   "source": [
    "## extrudeSimplicial(model::LAR, pattern::Array)::LAR\n",
    "Algorithm for multimensional extrusion of a simplicial complex.\n",
    "Can be applied to 0-, 1-, 2-, ... simplicial models, to get a 1-, 2-, 3-, .... model."
   ]
  },
  {
   "cell_type": "code",
   "execution_count": null,
   "metadata": {},
   "outputs": [],
   "source": [
    "function extrudeSimplicial(model::Lar.LAR, pattern)\n",
    "    V = [model[1][:,k] for k=1:size(model[1],2)]\n",
    "    FV = model[2]\n",
    "    d, m = length(FV[1]), length(pattern)\n",
    "    coords = collect(cumsum(append!([0], abs.(pattern))))\n",
    "    offset, outcells, rangelimit, i = length(V), [], d*m, 0\n",
    "    for cell in FV\n",
    "        i += 1\n",
    "        tube = [v+k*offset for k in range(0, length=m+1) for v in cell]\n",
    "        cellTube = [tube[k:k+d] for k in range(1, length=rangelimit)]\n",
    "        if i==1 outcells = reshape(cellTube, d, m)\n",
    "        else outcells = vcat(outcells, reshape(cellTube, d, m)) end\n",
    "    end\n",
    "    cellGroups = []\n",
    "    for i in 1:size(outcells, 2)\n",
    "        if pattern[i]>0\n",
    "            cellGroups = vcat(cellGroups, outcells[:, i])\n",
    "        end\n",
    "    end\n",
    "    outVertices = [vcat(v, [z]) for z in coords for v in V]\n",
    "    cellGroups = convert(Array{Array{Int, 1}, 1}, cellGroups)\n",
    "    outModel = outVertices, cellGroups\n",
    "    hcat(outVertices...), cellGroups\n",
    "end\n",
    "function extrudeSimplicial(model::Union{Any,Lar.Cells}, pattern)\n",
    "    V,FV = model\n",
    "    d, m = length(FV[1]), length(pattern)\n",
    "    coords = collect(cumsum(append!([0], abs.(pattern))))\n",
    "    offset, outcells, rangelimit, i = length(V), [], d*m, 0\n",
    "    for cell in FV\n",
    "        i += 1\n",
    "        tube = [v+k*offset for k in range(0, length=m+1) for v in cell]\n",
    "        cellTube = [tube[k:k+d] for k in range(1, length=rangelimit)]\n",
    "        if i==1 outcells = reshape(cellTube, d, m)\n",
    "        else outcells = vcat(outcells, reshape(cellTube, d, m)) end\n",
    "    end\n",
    "    cellGroups = []\n",
    "    for i in 1:size(outcells, 2)\n",
    "        if pattern[i]>0\n",
    "            cellGroups = vcat(cellGroups, outcells[:, i])\n",
    "        end\n",
    "    end\n",
    "    outVertices = [vcat(v, [z]) for z in coords for v in V]\n",
    "    cellGroups = convert(Array{Array{Int, 1}, 1}, cellGroups)\n",
    "    outModel = outVertices, cellGroups\n",
    "    hcat(outVertices...), cellGroups\n",
    "end"
   ]
  },
  {
   "cell_type": "markdown",
   "metadata": {},
   "source": [
    "## simplexGrid(shape::Array)::LAR\n",
    "Generate a simplicial complex decomposition of a cubical grid of ``d``-cuboids, where ``d`` is the length of `shape` array."
   ]
  },
  {
   "cell_type": "code",
   "execution_count": null,
   "metadata": {},
   "outputs": [],
   "source": [
    "function simplexGrid(shape)\n",
    "    model = [[]], [[1]]\n",
    "    for item in shape\n",
    "        model = extrudeSimplicial(model, fill(1, item))\n",
    "    end\n",
    "    V, CV = model\n",
    "    V = convert(Array{Float64,2}, V)\n",
    "    return V, CV\n",
    "end"
   ]
  },
  {
   "cell_type": "code",
   "execution_count": null,
   "metadata": {},
   "outputs": [],
   "source": [
    "@btime simplexGrid([1,1,1])"
   ]
  },
  {
   "cell_type": "markdown",
   "metadata": {},
   "source": [
    "## quads2triangles(quads::Cells)::Cells\n",
    "Convert an array of *quads* with type `::Lar.Cells` into an array of *triangles* with the same type."
   ]
  },
  {
   "cell_type": "code",
   "execution_count": null,
   "metadata": {},
   "outputs": [],
   "source": [
    "function quads2triangles(quads::Lar.Cells)::Lar.Cells\n",
    "\tpairs = [[ Int[v1,v2,v3], Int[v3,v2,v4]] for (v1,v2,v3,v4) in quads ]\n",
    "\treturn cat(pairs)\n",
    "end"
   ]
  }
 ],
 "metadata": {
  "kernelspec": {
   "display_name": "Julia 1.6.5",
   "language": "julia",
   "name": "julia-1.6"
  },
  "language_info": {
   "file_extension": ".jl",
   "mimetype": "application/julia",
   "name": "julia",
   "version": "1.6.5"
  }
 },
 "nbformat": 4,
 "nbformat_minor": 3
}
