{
 "cells": [
  {
   "cell_type": "markdown",
   "metadata": {},
   "source": [
    "# Simplexn"
   ]
  },
  {
   "cell_type": "code",
   "execution_count": 4,
   "metadata": {},
   "outputs": [
    {
     "data": {
      "text/plain": [
       "LinearAlgebraicRepresentation"
      ]
     },
     "execution_count": 4,
     "metadata": {},
     "output_type": "execute_result"
    }
   ],
   "source": [
    "using BenchmarkTools\n",
    "using SparseArrays\n",
    "using LinearAlgebra\n",
    "using LinearAlgebraicRepresentation\n",
    "Lar = LinearAlgebraicRepresentation"
   ]
  },
  {
   "cell_type": "markdown",
   "metadata": {},
   "source": [
    "## simplexFacets(simplices::Cells)::Cells\n",
    "Genera il `(d-1)`-scheletro (insieme delle `faccette`) di un `d`-complesso simpliciale.\n",
    "\n",
    "Ogni faccetta è generata come differenza tra uno dei `d`-simplessi di `simplices` e uno dei suoi vertici `v` tramite la funzione `setdiff`. In questo modo si ottiene una `facet` di dimensione `d-1` rispetto al simplesso da cui è generata.\n",
    "\n",
    "Ogni faccetta è poi aggiunta a un array (`push!`) che viene restituito come output dopo essere stato ordinato."
   ]
  },
  {
   "cell_type": "code",
   "execution_count": null,
   "metadata": {},
   "outputs": [],
   "source": [
    "function simplexFacets(simplices)\n",
    "\tout = Array{Int64,1}[]\n",
    "\tfor simplex in simplices\n",
    "\t\tfor v in simplex\n",
    "\t\t\tfacet = setdiff(simplex,v)\n",
    "\t\t\tpush!(out, facet)\n",
    "\t\tend\n",
    "\tend\n",
    "\t# remove duplicate facets\n",
    "\treturn sort(collect(Set(out)))\n",
    "end"
   ]
  },
  {
   "cell_type": "code",
   "execution_count": null,
   "metadata": {},
   "outputs": [],
   "source": [
    "@benchmark simplexFacets([[1, 2, 3, 5],[2, 3, 5, 6],[3, 5, 6, 7],[2, 3, 4, 6],[3, 4, 6, 7],[4, 6, 7, 8]])"
   ]
  },
  {
   "cell_type": "markdown",
   "metadata": {},
   "source": [
    "### Optimization"
   ]
  },
  {
   "cell_type": "code",
   "execution_count": null,
   "metadata": {},
   "outputs": [],
   "source": [
    "@inline function simplexFacets_opt(simplices)\n",
    "\tout = Array{Int64,1}[]\n",
    "\t@inbounds for simplex in simplices\n",
    "\t\t@inbounds @simd for v in simplex\n",
    "\t\t\tfacet = setdiff(simplex,v)\n",
    "\t\t\tpush!(out, facet)\n",
    "\t\tend\n",
    "\tend\n",
    "\t# remove duplicate facets\n",
    "\treturn sort(collect(Set(out)))\n",
    "end"
   ]
  },
  {
   "cell_type": "code",
   "execution_count": null,
   "metadata": {},
   "outputs": [],
   "source": [
    "@benchmark simplexFacets_opt([[1, 2, 3, 5],[2, 3, 5, 6],[3, 5, 6, 7],[2, 3, 4, 6],[3, 4, 6, 7],[4, 6, 7, 8]])"
   ]
  },
  {
   "cell_type": "markdown",
   "metadata": {},
   "source": [
    "## simplex(n::Int, fullmodel=false::Bool)::Union{Lar.LAR, Lar.LARmodel}\n",
    "Genera il modello `LAR` di un simplesso `n`-dimensionale in un `n`-spazio.\n",
    "\n",
    "Restituisce `V`, la matrice dei vertici, e `CV`, la cella che rappresenta il simplesso. Se il parametro `fullmodel==true`, allora `CV` viene arricchito con tutte le facce del simplesso di dimensione da `1` a `n` con l'utilizzo della funzione `simplexFacets`."
   ]
  },
  {
   "cell_type": "code",
   "execution_count": null,
   "metadata": {},
   "outputs": [],
   "source": [
    "function simplex(n, fullmodel=false)\n",
    "\teye(n) = LinearAlgebra.Matrix{Int}(I,n,n)\n",
    "\tV = [zeros(n,1) eye(n)]\n",
    "\tCV = [collect(1:n+1)]\n",
    "\tif fullmodel == false\n",
    "\t\treturn V,CV\n",
    "\telse\n",
    "\t\th = n\n",
    "\t\tcells = [CV]\n",
    "\t\twhile h != 0\n",
    "\t\t\tpush!(cells, simplexFacets(cells[end]))\n",
    "\t\t\th -= 1\n",
    "\t\tend\n",
    "\t\treturn V,reverse(cells)\n",
    "\tend\n",
    "end"
   ]
  },
  {
   "cell_type": "code",
   "execution_count": null,
   "metadata": {},
   "outputs": [],
   "source": [
    "@benchmark simplex(3, true)"
   ]
  },
  {
   "cell_type": "markdown",
   "metadata": {},
   "source": [
    "### Optimization"
   ]
  },
  {
   "cell_type": "code",
   "execution_count": null,
   "metadata": {},
   "outputs": [],
   "source": [
    "function simplex_opt(n, fullmodel=false)\n",
    "\teye(n) = LinearAlgebra.Matrix{Int}(I,n,n)\n",
    "\tV = [zeros(n,1) eye(n)]\n",
    "\tCV = [collect(1:n+1)]\n",
    "\tif fullmodel == false\n",
    "\t\treturn V,CV\n",
    "\telse\n",
    "\t\th = n\n",
    "\t\tcells = [CV]\n",
    "\t\twhile h != 0\n",
    "\t\t\tpush!(cells, simplexFacets_opt(cells[end]))\n",
    "\t\t\th -= 1\n",
    "\t\tend\n",
    "\t\treturn V,reverse(cells)\n",
    "\tend\n",
    "end"
   ]
  },
  {
   "cell_type": "code",
   "execution_count": null,
   "metadata": {},
   "outputs": [],
   "source": [
    "@benchmark simplex_opt(3, true)"
   ]
  },
  {
   "cell_type": "markdown",
   "metadata": {},
   "source": [
    "## extrudeSimplicial(model::LAR, pattern::Array)::LAR\n",
    "Algoritmo per l'estrusione di un complesso simpliciale. Può essere applicato a modelli `0`-, `1`-, `2`-, ... dimensionali per ottenere modelli di dimensione superiore (`1`-, `2`-, `3`-, ...).\n",
    "\n"
   ]
  },
  {
   "cell_type": "code",
   "execution_count": 10,
   "metadata": {},
   "outputs": [
    {
     "data": {
      "text/plain": [
       "extrudeSimplicial (generic function with 2 methods)"
      ]
     },
     "execution_count": 10,
     "metadata": {},
     "output_type": "execute_result"
    }
   ],
   "source": [
    "function extrudeSimplicial(model::Lar.LAR, pattern)\n",
    "    V = [model[1][:,k] for k=1:size(model[1],2)]\n",
    "    FV = model[2]\n",
    "    d, m = length(FV[1]), length(pattern)\n",
    "    coords = collect(cumsum(append!([0], abs.(pattern))))\n",
    "    offset, outcells, rangelimit, i = length(V), [], d*m, 0\n",
    "    for cell in FV\n",
    "        i += 1\n",
    "        tube = [v+k*offset for k in range(0, length=m+1) for v in cell]\n",
    "        cellTube = [tube[k:k+d] for k in range(1, length=rangelimit)]\n",
    "        if i==1 outcells = reshape(cellTube, d, m)\n",
    "        else outcells = vcat(outcells, reshape(cellTube, d, m)) end\n",
    "    end\n",
    "    cellGroups = []\n",
    "    for i in 1:size(outcells, 2)\n",
    "        if pattern[i]>0\n",
    "            cellGroups = vcat(cellGroups, outcells[:, i])\n",
    "        end\n",
    "    end\n",
    "    outVertices = [vcat(v, [z]) for z in coords for v in V]\n",
    "    cellGroups = convert(Array{Array{Int, 1}, 1}, cellGroups)\n",
    "    outModel = outVertices, cellGroups\n",
    "    hcat(outVertices...), cellGroups\n",
    "end\n",
    "function extrudeSimplicial(model::Union{Any,Lar.Cells}, pattern)\n",
    "    V,FV = model\n",
    "    d, m = length(FV[1]), length(pattern)\n",
    "    coords = collect(cumsum(append!([0], abs.(pattern))))\n",
    "    offset, outcells, rangelimit, i = length(V), [], d*m, 0\n",
    "    for cell in FV\n",
    "        i += 1\n",
    "        tube = [v+k*offset for k in range(0, length=m+1) for v in cell]\n",
    "        cellTube = [tube[k:k+d] for k in range(1, length=rangelimit)]\n",
    "        if i==1 outcells = reshape(cellTube, d, m)\n",
    "        else outcells = vcat(outcells, reshape(cellTube, d, m)) end\n",
    "    end\n",
    "    cellGroups = []\n",
    "    for i in 1:size(outcells, 2)\n",
    "        if pattern[i]>0\n",
    "            cellGroups = vcat(cellGroups, outcells[:, i])\n",
    "        end\n",
    "    end\n",
    "    outVertices = [vcat(v, [z]) for z in coords for v in V]\n",
    "    cellGroups = convert(Array{Array{Int, 1}, 1}, cellGroups)\n",
    "    outModel = outVertices, cellGroups\n",
    "    hcat(outVertices...), cellGroups\n",
    "end"
   ]
  },
  {
   "cell_type": "code",
   "execution_count": null,
   "metadata": {},
   "outputs": [],
   "source": [
    "pattern = repeat([1,2,-3],outer=4)\n",
    "@benchmark extrudeSimplicial(([[0,0] [1,0] [2,0] [0,1] [1,1] [2,1] [0,2] [1,2] [2,2]], [[1,2,4],[2,3,5],[3,5,6],[4,5,7],[5,7,8],[6,8,9]]), pattern)"
   ]
  },
  {
   "cell_type": "markdown",
   "metadata": {},
   "source": [
    "### Optimization"
   ]
  },
  {
   "cell_type": "code",
   "execution_count": 6,
   "metadata": {},
   "outputs": [
    {
     "data": {
      "text/plain": [
       "extrudeSimplicial_opt (generic function with 2 methods)"
      ]
     },
     "execution_count": 6,
     "metadata": {},
     "output_type": "execute_result"
    }
   ],
   "source": [
    "#=function outcells(FV::Lar.LAR, offset, rangelimit)\n",
    "    for cell in FV\n",
    "        i += 1\n",
    "        tube = [v+k*offset for k in range(0, length=m+1) for v in cell]\n",
    "        cellTube = [tube[k:k+d] for k in range(1, length=rangelimit)]\n",
    "        if i==1 outcells = reshape(cellTube, d, m)\n",
    "        else outcells = vcat(outcells, reshape(cellTube, d, m)) end\n",
    "    end\n",
    "    return outcells\n",
    "end\n",
    "\n",
    "function outcells(FV::Union{Any,Lar.Cells}, offset, rangelimit)\n",
    "    for cell in FV\n",
    "        i += 1\n",
    "        tube = [v+k*offset for k in range(0, length=m+1) for v in cell]\n",
    "        cellTube = [tube[k:k+d] for k in range(1, length=rangelimit)]\n",
    "        if i==1 outcells = reshape(cellTube, d, m)\n",
    "        else outcells = vcat(outcells, reshape(cellTube, d, m)) end\n",
    "    end\n",
    "    return outcells\n",
    "end=#\n",
    "\n",
    "@inline function extrudeSimplicial_opt(model::Lar.LAR, pattern)\n",
    "    V = [model[1][:,k] for k=1:size(model[1],2)]\n",
    "    FV = model[2]\n",
    "    d, m = length(FV[1]), length(pattern)\n",
    "    coords = collect(cumsum(append!([0], abs.(pattern))))\n",
    "    offset, outcells, rangelimit, i = length(V), [], d*m, 0\n",
    "    \n",
    "    for cell in FV\n",
    "        i += 1\n",
    "        tube = [v+k*offset for k in range(0, length=m+1) for v in cell]\n",
    "        cellTube = [tube[k:k+d] for k in range(1, length=rangelimit)]\n",
    "        if i==1 outcells = reshape(cellTube, d, m)\n",
    "        else outcells = vcat(outcells, reshape(cellTube, d, m)) end\n",
    "    end\n",
    "    cellGroups = []\n",
    "    for i in 1:size(outcells, 2)\n",
    "        if pattern[i]>0\n",
    "            cellGroups = vcat(cellGroups, outcells[:, i])\n",
    "        end\n",
    "    end\n",
    "    outVertices = [vcat(v, [z]) for z in coords for v in V]\n",
    "    cellGroups = convert(Array{Array{Int, 1}, 1}, cellGroups)\n",
    "    outModel = outVertices, cellGroups\n",
    "    hcat(outVertices...), cellGroups\n",
    "end\n",
    "@inline function extrudeSimplicial_opt(model::Union{Any,Lar.Cells}, pattern)\n",
    "    V,FV = model\n",
    "    d, m = length(FV[1]), length(pattern)\n",
    "    coords = collect(cumsum(append!([0], abs.(pattern))))\n",
    "    offset, outcells, rangelimit, i = length(V), [], d*m, 0\n",
    "    \n",
    "    for cell in FV\n",
    "        i += 1\n",
    "        tube = [v+k*offset for k in range(0, length=m+1) for v in cell]\n",
    "        cellTube = [tube[k:k+d] for k in range(1, length=rangelimit)]\n",
    "        if i==1 outcells = reshape(cellTube, d, m)\n",
    "        else outcells = vcat(outcells, reshape(cellTube, d, m)) end\n",
    "    end\n",
    "    cellGroups = []\n",
    "    for i in 1:size(outcells, 2)\n",
    "        if pattern[i]>0\n",
    "            cellGroups = vcat(cellGroups, outcells[:, i])\n",
    "        end\n",
    "    end\n",
    "    outVertices = [vcat(v, [z]) for z in coords for v in V]\n",
    "    cellGroups = convert(Array{Array{Int, 1}, 1}, cellGroups)\n",
    "    outModel = outVertices, cellGroups\n",
    "    hcat(outVertices...), cellGroups\n",
    "end"
   ]
  },
  {
   "cell_type": "markdown",
   "metadata": {},
   "source": [
    "## simplexGrid(shape::Array)::LAR\n",
    "Genera una decomposizione simpliciale di una griglia cubica formata da `d`-cuboidi, dove `d` è la lunghezza dell'array `shape`, parametro in input che definisce la forma della griglia.\n",
    "\n",
    "Facendo uso di `extrudeSimplicial` si ottiene un modello LAR del complesso simpliciale formato da vertici `V` e celle `CV`."
   ]
  },
  {
   "cell_type": "code",
   "execution_count": 11,
   "metadata": {},
   "outputs": [
    {
     "data": {
      "text/plain": [
       "simplexGrid (generic function with 1 method)"
      ]
     },
     "execution_count": 11,
     "metadata": {},
     "output_type": "execute_result"
    }
   ],
   "source": [
    "function simplexGrid(shape)\n",
    "    model = [[]], [[1]]\n",
    "    for item in shape\n",
    "        model = extrudeSimplicial(model, fill(1, item))\n",
    "    end\n",
    "    V, CV = model\n",
    "    V = convert(Array{Float64,2}, V)\n",
    "    return V, CV\n",
    "end"
   ]
  },
  {
   "cell_type": "code",
   "execution_count": 12,
   "metadata": {},
   "outputs": [
    {
     "data": {
      "text/plain": [
       "BenchmarkTools.Trial: 10000 samples with 4 evaluations.\n",
       " Range \u001b[90m(\u001b[39m\u001b[36m\u001b[1mmin\u001b[22m\u001b[39m … \u001b[35mmax\u001b[39m\u001b[90m):  \u001b[39m\u001b[36m\u001b[1m7.854 μs\u001b[22m\u001b[39m … \u001b[35m 1.511 ms\u001b[39m  \u001b[90m┊\u001b[39m GC \u001b[90m(\u001b[39mmin … max\u001b[90m): \u001b[39m 0.00% … 98.56%\n",
       " Time  \u001b[90m(\u001b[39m\u001b[34m\u001b[1mmedian\u001b[22m\u001b[39m\u001b[90m):     \u001b[39m\u001b[34m\u001b[1m8.252 μs              \u001b[22m\u001b[39m\u001b[90m┊\u001b[39m GC \u001b[90m(\u001b[39mmedian\u001b[90m):    \u001b[39m 0.00%\n",
       " Time  \u001b[90m(\u001b[39m\u001b[32m\u001b[1mmean\u001b[22m\u001b[39m ± \u001b[32mσ\u001b[39m\u001b[90m):   \u001b[39m\u001b[32m\u001b[1m9.821 μs\u001b[22m\u001b[39m ± \u001b[32m38.810 μs\u001b[39m  \u001b[90m┊\u001b[39m GC \u001b[90m(\u001b[39mmean ± σ\u001b[90m):  \u001b[39m11.05% ±  2.79%\n",
       "\n",
       "  \u001b[39m▆\u001b[39m█\u001b[34m▆\u001b[39m\u001b[39m▄\u001b[39m▃\u001b[39m▂\u001b[39m▁\u001b[39m▁\u001b[32m \u001b[39m\u001b[39m \u001b[39m \u001b[39m \u001b[39m \u001b[39m \u001b[39m \u001b[39m \u001b[39m \u001b[39m \u001b[39m \u001b[39m \u001b[39m \u001b[39m \u001b[39m \u001b[39m \u001b[39m \u001b[39m \u001b[39m \u001b[39m \u001b[39m \u001b[39m \u001b[39m \u001b[39m \u001b[39m \u001b[39m \u001b[39m \u001b[39m \u001b[39m \u001b[39m \u001b[39m \u001b[39m \u001b[39m \u001b[39m \u001b[39m \u001b[39m \u001b[39m \u001b[39m \u001b[39m \u001b[39m \u001b[39m \u001b[39m \u001b[39m \u001b[39m \u001b[39m \u001b[39m \u001b[39m \u001b[39m \u001b[39m \u001b[39m \u001b[39m \u001b[39m▁\n",
       "  \u001b[39m█\u001b[39m█\u001b[34m█\u001b[39m\u001b[39m█\u001b[39m█\u001b[39m█\u001b[39m█\u001b[39m█\u001b[32m█\u001b[39m\u001b[39m█\u001b[39m▇\u001b[39m▇\u001b[39m▄\u001b[39m▆\u001b[39m▆\u001b[39m▆\u001b[39m▆\u001b[39m▄\u001b[39m▅\u001b[39m▃\u001b[39m▅\u001b[39m▃\u001b[39m▄\u001b[39m▅\u001b[39m▃\u001b[39m▄\u001b[39m▄\u001b[39m▅\u001b[39m▅\u001b[39m▄\u001b[39m▄\u001b[39m▅\u001b[39m▄\u001b[39m▅\u001b[39m▅\u001b[39m▅\u001b[39m▅\u001b[39m▂\u001b[39m▅\u001b[39m▄\u001b[39m▄\u001b[39m▃\u001b[39m▃\u001b[39m▄\u001b[39m▃\u001b[39m▃\u001b[39m▆\u001b[39m▄\u001b[39m▅\u001b[39m▄\u001b[39m▄\u001b[39m▄\u001b[39m▄\u001b[39m▄\u001b[39m▃\u001b[39m▅\u001b[39m▂\u001b[39m▃\u001b[39m \u001b[39m█\n",
       "  7.85 μs\u001b[90m      \u001b[39m\u001b[90mHistogram: \u001b[39m\u001b[90m\u001b[1mlog(\u001b[22m\u001b[39m\u001b[90mfrequency\u001b[39m\u001b[90m\u001b[1m)\u001b[22m\u001b[39m\u001b[90m by time\u001b[39m     21.8 μs \u001b[0m\u001b[1m<\u001b[22m\n",
       "\n",
       " Memory estimate\u001b[90m: \u001b[39m\u001b[33m9.47 KiB\u001b[39m, allocs estimate\u001b[90m: \u001b[39m\u001b[33m138\u001b[39m."
      ]
     },
     "execution_count": 12,
     "metadata": {},
     "output_type": "execute_result"
    }
   ],
   "source": [
    "@benchmark simplexGrid([1,1,1])"
   ]
  },
  {
   "cell_type": "markdown",
   "metadata": {},
   "source": [
    "### Optimization"
   ]
  },
  {
   "cell_type": "code",
   "execution_count": 13,
   "metadata": {},
   "outputs": [
    {
     "data": {
      "text/plain": [
       "simplexGrid_opt (generic function with 1 method)"
      ]
     },
     "execution_count": 13,
     "metadata": {},
     "output_type": "execute_result"
    }
   ],
   "source": [
    "function simplexGrid_opt(shape)\n",
    "    model = [[]], [[1]]\n",
    "    @inbounds @simd for item in shape\n",
    "        model = extrudeSimplicial_opt(model, fill(1, item))\n",
    "    end\n",
    "    V, CV = model\n",
    "    V = convert(Array{Float64,2}, V)\n",
    "    return V, CV\n",
    "end"
   ]
  },
  {
   "cell_type": "code",
   "execution_count": 14,
   "metadata": {},
   "outputs": [
    {
     "data": {
      "text/plain": [
       "BenchmarkTools.Trial: 10000 samples with 3 evaluations.\n",
       " Range \u001b[90m(\u001b[39m\u001b[36m\u001b[1mmin\u001b[22m\u001b[39m … \u001b[35mmax\u001b[39m\u001b[90m):  \u001b[39m\u001b[36m\u001b[1m8.017 μs\u001b[22m\u001b[39m … \u001b[35m 1.955 ms\u001b[39m  \u001b[90m┊\u001b[39m GC \u001b[90m(\u001b[39mmin … max\u001b[90m): \u001b[39m0.00% … 98.65%\n",
       " Time  \u001b[90m(\u001b[39m\u001b[34m\u001b[1mmedian\u001b[22m\u001b[39m\u001b[90m):     \u001b[39m\u001b[34m\u001b[1m8.437 μs              \u001b[22m\u001b[39m\u001b[90m┊\u001b[39m GC \u001b[90m(\u001b[39mmedian\u001b[90m):    \u001b[39m0.00%\n",
       " Time  \u001b[90m(\u001b[39m\u001b[32m\u001b[1mmean\u001b[22m\u001b[39m ± \u001b[32mσ\u001b[39m\u001b[90m):   \u001b[39m\u001b[32m\u001b[1m9.802 μs\u001b[22m\u001b[39m ± \u001b[32m42.941 μs\u001b[39m  \u001b[90m┊\u001b[39m GC \u001b[90m(\u001b[39mmean ± σ\u001b[90m):  \u001b[39m9.71% ±  2.21%\n",
       "\n",
       "  \u001b[39m▅\u001b[39m█\u001b[34m▇\u001b[39m\u001b[39m▅\u001b[39m▄\u001b[39m▂\u001b[39m▁\u001b[39m \u001b[32m \u001b[39m\u001b[39m \u001b[39m \u001b[39m \u001b[39m \u001b[39m \u001b[39m \u001b[39m \u001b[39m \u001b[39m \u001b[39m \u001b[39m \u001b[39m \u001b[39m \u001b[39m \u001b[39m \u001b[39m \u001b[39m \u001b[39m \u001b[39m \u001b[39m \u001b[39m \u001b[39m \u001b[39m \u001b[39m \u001b[39m \u001b[39m \u001b[39m \u001b[39m \u001b[39m \u001b[39m \u001b[39m \u001b[39m \u001b[39m \u001b[39m \u001b[39m \u001b[39m \u001b[39m \u001b[39m \u001b[39m \u001b[39m \u001b[39m \u001b[39m \u001b[39m \u001b[39m \u001b[39m \u001b[39m \u001b[39m \u001b[39m \u001b[39m \u001b[39m \u001b[39m▁\n",
       "  \u001b[39m█\u001b[39m█\u001b[34m█\u001b[39m\u001b[39m█\u001b[39m█\u001b[39m█\u001b[39m█\u001b[39m█\u001b[32m█\u001b[39m\u001b[39m█\u001b[39m▇\u001b[39m█\u001b[39m▇\u001b[39m▆\u001b[39m▅\u001b[39m▆\u001b[39m▄\u001b[39m▄\u001b[39m▅\u001b[39m▄\u001b[39m▃\u001b[39m▄\u001b[39m▃\u001b[39m▄\u001b[39m▃\u001b[39m▃\u001b[39m▃\u001b[39m▄\u001b[39m▄\u001b[39m▃\u001b[39m▄\u001b[39m▄\u001b[39m▄\u001b[39m▂\u001b[39m▅\u001b[39m▂\u001b[39m▄\u001b[39m▃\u001b[39m▃\u001b[39m▄\u001b[39m▄\u001b[39m▅\u001b[39m▅\u001b[39m▄\u001b[39m▅\u001b[39m▅\u001b[39m▄\u001b[39m▄\u001b[39m▄\u001b[39m▄\u001b[39m▄\u001b[39m▂\u001b[39m▂\u001b[39m▃\u001b[39m▄\u001b[39m▃\u001b[39m▄\u001b[39m▄\u001b[39m \u001b[39m█\n",
       "  8.02 μs\u001b[90m      \u001b[39m\u001b[90mHistogram: \u001b[39m\u001b[90m\u001b[1mlog(\u001b[22m\u001b[39m\u001b[90mfrequency\u001b[39m\u001b[90m\u001b[1m)\u001b[22m\u001b[39m\u001b[90m by time\u001b[39m     20.6 μs \u001b[0m\u001b[1m<\u001b[22m\n",
       "\n",
       " Memory estimate\u001b[90m: \u001b[39m\u001b[33m9.47 KiB\u001b[39m, allocs estimate\u001b[90m: \u001b[39m\u001b[33m138\u001b[39m."
      ]
     },
     "execution_count": 14,
     "metadata": {},
     "output_type": "execute_result"
    }
   ],
   "source": [
    "@benchmark simplexGrid_opt([1,1,1])"
   ]
  },
  {
   "cell_type": "code",
   "execution_count": null,
   "metadata": {},
   "outputs": [],
   "source": []
  }
 ],
 "metadata": {
  "kernelspec": {
   "display_name": "Julia 1.7.2",
   "language": "julia",
   "name": "julia-1.7"
  },
  "language_info": {
   "file_extension": ".jl",
   "mimetype": "application/julia",
   "name": "julia",
   "version": "1.7.2"
  }
 },
 "nbformat": 4,
 "nbformat_minor": 3
}
