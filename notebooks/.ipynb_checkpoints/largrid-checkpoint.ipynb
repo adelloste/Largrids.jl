{
 "cells": [
  {
   "cell_type": "markdown",
   "metadata": {},
   "source": [
    "# Largrid"
   ]
  },
  {
   "cell_type": "code",
   "execution_count": null,
   "metadata": {},
   "outputs": [],
   "source": [
    "using BenchmarkTools\n",
    "using LinearAlgebra\n",
    "using DataStructures\n",
    "using LinearAlgebraicRepresentation\n",
    "Lar = LinearAlgebraicRepresentation\n",
    "Cells = Array{Array{Int,1},1}"
   ]
  },
  {
   "cell_type": "markdown",
   "metadata": {},
   "source": [
    "### grid(sequence::Array{Number,1})::Lar.LAR\n",
    "Genera un modello LAR 1D. *Geometry* is stored as 1D `Points`, and *Topology* is stored as 1D `Cells`."
   ]
  },
  {
   "cell_type": "code",
   "execution_count": null,
   "metadata": {},
   "outputs": [],
   "source": [
    "function grid(sequence...)\n",
    "\tsequence = collect(sequence)\n",
    "\tcursor,points,hulls= (0,[[0.]],[])\n",
    "\tfor value in sequence\n",
    "\t\tpoints = append!(points, [[cursor + abs(value)]])\n",
    "\t\tif value>=0\n",
    "\t\t\tappend!(hulls,[[length(points)-1,length(points)]])\n",
    "\t\tend\n",
    "\t  cursor += abs(value)\n",
    "\tend\n",
    "\tV = convert(Lar.Points, [p[1] for p in points]')\n",
    "\tEV = convert(Lar.Cells,hulls)\n",
    "\treturn V,EV\n",
    "end"
   ]
  },
  {
   "cell_type": "code",
   "execution_count": null,
   "metadata": {},
   "outputs": [],
   "source": [
    "@btime grid(1,-1,1,-1,1,-1,1,-1,1,-1)"
   ]
  },
  {
   "cell_type": "markdown",
   "metadata": {},
   "source": [
    "### qn(n::Int)(sequence::Array{T,1})::Lar.LAR\n",
    "Alias of `grid` function, with repetition parameter `n`."
   ]
  },
  {
   "cell_type": "code",
   "execution_count": null,
   "metadata": {},
   "outputs": [],
   "source": [
    "function qn(n::Int)\n",
    "\tfunction qn0(sequence::Array{T,1})::Lar.LAR  where T <: Real\n",
    "\t\tsequence = collect(sequence)\n",
    "\t\treturn Lar.grid(repeat(sequence,outer=n)...)\n",
    "\tend\n",
    "\treturn qn0\n",
    "end"
   ]
  },
  {
   "cell_type": "code",
   "execution_count": null,
   "metadata": {},
   "outputs": [],
   "source": [
    "@btime qn(3)([1.5,-2,0.5])"
   ]
  },
  {
   "cell_type": "markdown",
   "metadata": {},
   "source": [
    "### grid_0(n::Int)::Array{Int64,2}\n",
    "Generate a *uniform 0D cellular complex*.\n",
    "The `grid_0` function generates a 0-dimensional uniform complex embedding ``n+1`` equally-spaced  0-cells (at *unit interval* boundaries). It returns by columns the cells of this 0-complex as `Array{Int64,2}."
   ]
  },
  {
   "cell_type": "code",
   "execution_count": null,
   "metadata": {},
   "outputs": [],
   "source": [
    "function grid_0(n::Int)::Array{Int64,2}\n",
    "    return hcat([[i] for i in range(0, length=n+1)]...)\n",
    "end"
   ]
  },
  {
   "cell_type": "code",
   "execution_count": null,
   "metadata": {},
   "outputs": [],
   "source": [
    "@btime grid_0(5)"
   ]
  },
  {
   "cell_type": "markdown",
   "metadata": {},
   "source": [
    "### grid_1(n::Int)::Array{Int64,2}\n",
    "Generate a *uniform 1D cellular complex*.\n",
    "The `grid_1` function generates a 0-dimensional uniform complex embedding ``n+1`` equally-spaced  1-cells (*unit intervals*). It returns by columns the cells of this 1-complex as `Array{Int64,2}`."
   ]
  },
  {
   "cell_type": "code",
   "execution_count": null,
   "metadata": {},
   "outputs": [],
   "source": [
    "function grid_1(n)\n",
    "    return hcat([[i,i+1] for i in range(0, length=n)]...)\n",
    "end"
   ]
  },
  {
   "cell_type": "code",
   "execution_count": null,
   "metadata": {},
   "outputs": [],
   "source": [
    "@btime grid_1(5)"
   ]
  },
  {
   "cell_type": "markdown",
   "metadata": {},
   "source": [
    "### larGrid(n::Int)(d::Int)::Array{Int64,2}\n",
    "Generate either a *uniform 0D cellular complex* or a *uniform 1D cellular complex*.\n",
    "A `larGrid` function is given to generate the LAR representation of the cells of either a 0- or a 1-dimensional complex, depending on the value of the `d` parameter, to take values in the set ``{0,1}``, and providing the *order* of the output complex."
   ]
  },
  {
   "cell_type": "code",
   "execution_count": null,
   "metadata": {},
   "outputs": [],
   "source": [
    "function larGrid(n::Int)\n",
    "    function larGrid1(d::Int)::Array{Int64,2}\n",
    "        if d==0\n",
    "         return grid_0(n)\n",
    "        elseif d==1\n",
    "         return grid_1(n)\n",
    "        end\n",
    "    end\n",
    "    return larGrid1\n",
    "end"
   ]
  },
  {
   "cell_type": "code",
   "execution_count": null,
   "metadata": {},
   "outputs": [],
   "source": [
    "@btime larGrid(5)(1)"
   ]
  },
  {
   "cell_type": "markdown",
   "metadata": {},
   "source": [
    "### cart(args::Array{Array{Any,1},1})::Array{Tuple,1}\n",
    "Cartesian product of collections given in the\n",
    " unary `Array` argument. Return an `Array` of `Tuple`. The number ``n`` of output `Tuple` is equal to the *product of sizes* of input `args`"
   ]
  },
  {
   "cell_type": "code",
   "execution_count": null,
   "metadata": {},
   "outputs": [],
   "source": [
    "function cart(args)::Array{Tuple,1}\n",
    "    return sort(vcat(collect(Iterators.product(args...))...))\n",
    " end"
   ]
  },
  {
   "cell_type": "code",
   "execution_count": null,
   "metadata": {},
   "outputs": [],
   "source": [
    "@btime cart([[1,2],[\"a\"],[3,4]])"
   ]
  },
  {
   "cell_type": "markdown",
   "metadata": {},
   "source": [
    "### larVertProd(vertLists::Array{Points,1})::Points\n",
    "Generate the integer *coordinates of vertices* (0-cells) of a *multidimensional grid*.\n",
    "*Grid n-vertices* are produced by the `larVertProd` function, via Cartesian product of vertices of ``n`` 0-dimensional arguments (vertex arrays in `vertLists`), orderly corresponding to ``x_1, x_2, ..., x_n`` coordinates in the output points ``(x_1, x_2,...,x_n)`` in ``R^n``."
   ]
  },
  {
   "cell_type": "code",
   "execution_count": null,
   "metadata": {},
   "outputs": [],
   "source": [
    "function larVertProd(vertLists::Array{Array{Int64,2},1})::Array{Int64,2}\n",
    "    coords = [[x[1] for x in v] for v in Lar.cart(vertLists)]\n",
    "    return sortslices(hcat(coords...), dims=2)\n",
    " end\n",
    " function larVertProd(vertLists::Array{Array{Float64,2},1})::Array{Float64,2}\n",
    "    coords = [[x[1] for x in v] for v in Lar.cart(vertLists)]\n",
    "    return sortslices(hcat(coords...), dims=2)\n",
    " end"
   ]
  },
  {
   "cell_type": "code",
   "execution_count": null,
   "metadata": {},
   "outputs": [],
   "source": [
    "@btime larVertProd([larGrid(2)(0), larGrid(2)(0)])"
   ]
  },
  {
   "cell_type": "markdown",
   "metadata": {},
   "source": [
    "### index2addr(shape::Array{Int64,1})(multiIndex)::Int\n",
    "\n",
    "*Multi-index to address* transformation. Multi-index is a *generalization* of the concept of an integer index to an *ordered tuple of indices*.\n",
    "The second-order utility function `index2addr`  transforms a `shape` list for a *multidimensional array* into a function that, when applied to a *multindex array*, i.e. to a list of integer `Tuple` within the `shape`'s bounds, returns the *integer addresses* of the corresponding array components within the *linear storage* of the multidimensional array.\n",
    "\n",
    "Example\n",
    "\n",
    "Notice that in the example below, there are ``3 x 6`` different *multi-index values* for the variable `index`, generated by `cart([ 0:2, 0:5 ])`."
   ]
  },
  {
   "cell_type": "code",
   "execution_count": null,
   "metadata": {},
   "outputs": [],
   "source": [
    "function index2addr( shape::Array{Int64,2} )\n",
    "    n = length(shape)\n",
    "    theShape = append!(shape[2:end],1)\n",
    "    weights = [prod(theShape[k:end]) for k in range(1, length=n)]\n",
    "\n",
    "    function index2addr0( multiIndex::Array{Int,1} )::Int\n",
    "        return dot(collect(multiIndex), weights) + 1\n",
    "    end\n",
    "\n",
    "    return index2addr0\n",
    "end"
   ]
  },
  {
   "cell_type": "code",
   "execution_count": null,
   "metadata": {},
   "outputs": [],
   "source": [
    "@btime index2addr([2,7])([1,4])"
   ]
  },
  {
   "cell_type": "markdown",
   "metadata": {},
   "source": [
    "### larCellProd(cellLists::Array{Cells,1})::Cells\n",
    "Generation of *grid cells* by *Cartesian product* of 0/1-complexes.\n",
    "The *output complex* is generated by the product of *any number* of either 0- or 1-dimensional cell complexes. The product of ``d`` 1-complexes generates *solid ``d``-cells*, while the product of ``n`` 0-complexes and ``d-n`` 1-complexes (``n < d``) generates *non-solid ``(d-n)``-cells*, properly embedded in ``d``-space, i.e. with vertices having ``d`` coordinates.\n"
   ]
  },
  {
   "cell_type": "code",
   "execution_count": null,
   "metadata": {},
   "outputs": [],
   "source": [
    "function larCellProd(cellLists::Array{Cells,1})::Cells\n",
    "    shapes = [length(item) for item in cellLists]\n",
    "    subscripts = cart([collect(range(0, length=shape)) for shape in shapes])\n",
    "    indices = [collect(tuple) .+ 1 for tuple in subscripts]\n",
    " \n",
    "    jointCells = [cart([cells[k] for (k,cells) in zip(index,cellLists)])\n",
    "                    for index in indices]\n",
    "    convertIt = index2addr([ (length(cellLists[k][1]) > 1) ? shape .+ 1 : shape\n",
    "       for (k,shape) in enumerate(shapes) ])\n",
    "    [vcat(map(convertIt, map(collect,jointCells[j]))...) for j in 1:length(jointCells)]\n",
    " end"
   ]
  },
  {
   "cell_type": "code",
   "execution_count": null,
   "metadata": {},
   "outputs": [],
   "source": [
    "c1 = [[0,1],[1,2],[2,3]]\n",
    "c0 = [[0],[1],[2]]\n",
    "@btime larCellProd([c1, c1, c0])"
   ]
  },
  {
   "cell_type": "markdown",
   "metadata": {},
   "source": [
    "### filterByOrder( n::Int )Array{Array{Array{Int8,1},1},1}\n",
    "Filter the `array` of codes  (`Boolean` `String`) of *``n`` bits* depending on their integer value (*order*)."
   ]
  },
  {
   "cell_type": "code",
   "execution_count": null,
   "metadata": {},
   "outputs": [],
   "source": [
    "function filterByOrder(n::Int)Array{Array{Array{Int8,1},1},1}\n",
    "    terms = [[parse(Int8,bit) for bit in collect(term)] for term in Lar.binaryRange(n)]\n",
    "    return [[term for term in terms if sum(term) == k] for k in 0:n]\n",
    " end"
   ]
  },
  {
   "cell_type": "code",
   "execution_count": null,
   "metadata": {},
   "outputs": [],
   "source": [
    "@btime filterByOrder(2)"
   ]
  },
  {
   "cell_type": "markdown",
   "metadata": {},
   "source": [
    "### larGridSkeleton( shape::Array{Int,1} )( d::Int )::Cells\n",
    "Produce the `d`-dimensional skeleton (set of `d`-cells) of a cuboidal grid of given `shape`."
   ]
  },
  {
   "cell_type": "code",
   "execution_count": null,
   "metadata": {},
   "outputs": [],
   "source": [
    "function larGridSkeleton(shape)\n",
    "    n = length(shape)\n",
    "    function larGridSkeleton0( d::Int )::Cells\n",
    "\n",
    "    \t@assert d<=n\n",
    "\n",
    "        components = filterByOrder(n)[d .+ 1]\n",
    "        apply(fun,a) = fun(a)\n",
    "\t\tcomponentCellLists = [ [map(f,x)  for (f,x) in  zip( [larGrid(dim)\n",
    "\t\t\tfor dim in shape], convert(Array{Int64,1},component) ) ]\n",
    "\t\t\t\tfor component in components ]\n",
    "        colList(arr) = [arr[:,k]  for k in 1:size(arr,2)]\n",
    "        out = [ larCellProd(map(colList,cellLists)) for cellLists in componentCellLists ]\n",
    "        return vcat(out...)\n",
    "    end\n",
    "    return larGridSkeleton0\n",
    "end"
   ]
  },
  {
   "cell_type": "code",
   "execution_count": null,
   "metadata": {},
   "outputs": [],
   "source": [
    "@btime larGridSkeleton([1,1,1])(3)"
   ]
  },
  {
   "cell_type": "markdown",
   "metadata": {},
   "source": [
    "### larImageVerts(shape::Array{Int,1})::Array{Int64,2}\n",
    "Linearize the *grid of integer vertices*, given the `shape` of a *cuboidal grid* (typically an *image*)."
   ]
  },
  {
   "cell_type": "code",
   "execution_count": null,
   "metadata": {},
   "outputs": [],
   "source": [
    "function larImageVerts( shape::Array{Int,1} )::Array{Int64,2}\n",
    "    vertexDomain(n) = hcat([k for k in 0:n-1]...)\n",
    "    vertLists = [vertexDomain(k+1) for k in shape]\n",
    "    vertGrid = larVertProd(vertLists)\n",
    "    return vertGrid\n",
    " end"
   ]
  },
  {
   "cell_type": "code",
   "execution_count": null,
   "metadata": {},
   "outputs": [],
   "source": [
    "@btime larImageVerts([2,2,2])"
   ]
  },
  {
   "cell_type": "markdown",
   "metadata": {},
   "source": [
    "### cuboidGrid( shape, filled=false )::Union( Cells, Array{Cells,1} )\n",
    "\n",
    "Multi-dimensional generator function.\n",
    "Generate either a solid *``d``-grid* of unit *``d``-cuboids* in ``d``-dimensional space, or the array of ``p``-skeletons (``0 <=p<= d``), depending on the Boolean variable `filled`. ``0``-cuboids are points, ``1``-cuboids are segments, , ``2``-cuboids are squares,  ``3``-cuboids are cubes, etc. The `shape=[a,b,c]` value determines the number ``a x b x c`` of ``d``-cells. Notice that `d = length(shape)`\n"
   ]
  },
  {
   "cell_type": "code",
   "execution_count": null,
   "metadata": {},
   "outputs": [],
   "source": [
    "function cuboidGrid( shape, filled=false )\n",
    "    vertGrid = larImageVerts(shape)\n",
    "    gridMap = larGridSkeleton(shape)\n",
    "    if ! filled\n",
    "       cells = gridMap(length(shape))\n",
    "    else\n",
    "       skeletonIds = 0:length(shape)\n",
    "       cells = [ gridMap(id) for id in skeletonIds ]\n",
    "    end\n",
    "    return convert(Array{Float64,2},vertGrid), cells\n",
    " end"
   ]
  },
  {
   "cell_type": "code",
   "execution_count": null,
   "metadata": {},
   "outputs": [],
   "source": [
    "@btime cuboidGrid([3,2,1],true)"
   ]
  },
  {
   "cell_type": "markdown",
   "metadata": {},
   "source": [
    "### larModelProduct\n",
    "The `larModelProduct` function takes as input a pair of *LAR models* and returns the model of their *Cartesian product*. Since LAR type is a pair ``(geometry,topology)``, the second element of output is the *topological product* of the input topologies.\n"
   ]
  },
  {
   "cell_type": "code",
   "execution_count": null,
   "metadata": {},
   "outputs": [],
   "source": [
    "function larModelProduct( modelOne, modelTwo )\n",
    "    (V, cells1) = modelOne\n",
    "    (W, cells2) = modelTwo\n",
    "\n",
    "    vertices = DataStructures.OrderedDict();\n",
    "    k = 1\n",
    "    for j in 1:size(V,2)\n",
    "       v = V[:,j]\n",
    "        for i in 1:size(W,2)\n",
    "          w = W[:,i]\n",
    "            id = [v;w]\n",
    "            if haskey(vertices, id) == false\n",
    "                vertices[id] = k\n",
    "                k = k + 1\n",
    "            end\n",
    "        end\n",
    "    end\n",
    "\n",
    "    cells = []\n",
    "    for c1 in cells1\n",
    "        for c2 in cells2\n",
    "            cell = []\n",
    "            for vc in c1\n",
    "                for wc in c2\n",
    "                    push!(cell, vertices[[V[:,vc];W[:,wc]]] )\n",
    "                end\n",
    "            end\n",
    "            push!(cells, cell)\n",
    "        end\n",
    "    end\n",
    "\n",
    "\n",
    "    vertexmodel = []\n",
    "    for v in keys(vertices)\n",
    "        push!(vertexmodel, v)\n",
    "    end\n",
    "    verts = hcat(vertexmodel...)\n",
    "    cells = [[v for v in cell] for cell in cells]\n",
    "    return (verts, cells)\n",
    "end"
   ]
  },
  {
   "cell_type": "code",
   "execution_count": null,
   "metadata": {},
   "outputs": [],
   "source": [
    "function larModelProduct( twoModels )\n",
    "    modelOne, modelTwo = twoModels\n",
    "    larModelProduct(modelOne, modelTwo)\n",
    "end"
   ]
  },
  {
   "cell_type": "code",
   "execution_count": null,
   "metadata": {},
   "outputs": [],
   "source": [
    "geom,topol = [0. 1. 2.], [[1,2],[2,3]]\n",
    "mod = (geom,topol)\n",
    "@btime larModelProduct(mod, mod)"
   ]
  },
  {
   "cell_type": "markdown",
   "metadata": {},
   "source": [
    "### INSR(f::Function)(seq::Array{Any,1})::Any\n",
    "FL primitive combinator to transform a binary function to an n-ary one."
   ]
  },
  {
   "cell_type": "code",
   "execution_count": null,
   "metadata": {},
   "outputs": [],
   "source": [
    "function INSR(f)\n",
    "\tfunction INSR0(seq)\n",
    "\t\tlen = length(seq)\n",
    "\t\tres = seq[end]\n",
    "\t\tfor i in range(len-2,step=-1,stop=0)\n",
    "\t\t\tres = f([seq[i+1], res])\n",
    "\t\tend\n",
    "\t\treturn res\n",
    "\tend\n",
    "\treturn INSR0\n",
    "end"
   ]
  },
  {
   "cell_type": "code",
   "execution_count": null,
   "metadata": {},
   "outputs": [],
   "source": [
    "mod1D = grid(repeat([.1,-.1],outer=5)...)\n",
    "@btime INSR(larModelProduct)([mod1D,mod1D])"
   ]
  }
 ],
 "metadata": {
  "kernelspec": {
   "display_name": "Julia 1.7.2",
   "language": "julia",
   "name": "julia-1.7"
  },
  "language_info": {
   "file_extension": ".jl",
   "mimetype": "application/julia",
   "name": "julia",
   "version": "1.7.2"
  }
 },
 "nbformat": 4,
 "nbformat_minor": 2
}
