{
 "cells": [
  {
   "cell_type": "markdown",
   "metadata": {},
   "source": [
    "# Largrid"
   ]
  },
  {
   "cell_type": "code",
   "execution_count": null,
   "metadata": {},
   "outputs": [],
   "source": [
    "using BenchmarkTools\n",
    "using LinearAlgebra\n",
    "using DataStructures\n",
    "using LinearAlgebraicRepresentation\n",
    "Lar = LinearAlgebraicRepresentation\n",
    "Cells = Array{Array{Int,1},1}"
   ]
  },
  {
   "cell_type": "markdown",
   "metadata": {},
   "source": [
    "### grid(sequence::Array{Number,1})::Lar.LAR\n",
    "Genera un modello LAR 1D. La funzione ritorna due elementi V ed EV che reppresentano rispettivamente la Geometria e la Topologia del modello. \n",
    "\n",
    "La funzione prende una sequenza di valori in ingresso e la trasforma in un array con il metodo `collect`.\n",
    "Attraverso un ciclo for, vengono gradualmente popolati i due array `points` e `hulls` (solo quando i valori di `sequence` sono maggiori di 0), che vengono poi convertiti in Lar."
   ]
  },
  {
   "cell_type": "code",
   "execution_count": null,
   "metadata": {},
   "outputs": [],
   "source": [
    "function grid(sequence...)\n",
    "\tsequence = collect(sequence)\n",
    "\tcursor,points,hulls= (0,[[0.]],[])\n",
    "\tfor value in sequence\n",
    "\t\tpoints = append!(points, [[cursor + abs(value)]])\n",
    "\t\tif value>=0\n",
    "\t\t\tappend!(hulls,[[length(points)-1,length(points)]])\n",
    "\t\tend\n",
    "\t  cursor += abs(value)\n",
    "\tend\n",
    "\tV = convert(Lar.Points, [p[1] for p in points]')\n",
    "\tEV = convert(Lar.Cells,hulls)\n",
    "\treturn V,EV\n",
    "end"
   ]
  },
  {
   "cell_type": "code",
   "execution_count": null,
   "metadata": {},
   "outputs": [],
   "source": [
    "@btime grid(1,-1,1,-1,1,-1,1,-1,1,-1)"
   ]
  },
  {
   "cell_type": "markdown",
   "metadata": {},
   "source": [
    "### qn(n::Int)(sequence::Array{T,1})::Lar.LAR\n",
    "Versione alternativa della funzione `grid` con un parametro di ripetizione `n`. La funzione nidificata `qn0` crea un modello Lar a partire dallo stesso input ricevuto da grid ma ripetendolo n volte."
   ]
  },
  {
   "cell_type": "code",
   "execution_count": null,
   "metadata": {},
   "outputs": [],
   "source": [
    "function qn(n::Int)\n",
    "\tfunction qn0(sequence::Array{T,1})::Lar.LAR  where T <: Real\n",
    "\t\tsequence = collect(sequence)\n",
    "\t\treturn Lar.grid(repeat(sequence,outer=n)...)\n",
    "\tend\n",
    "\treturn qn0\n",
    "end"
   ]
  },
  {
   "cell_type": "code",
   "execution_count": null,
   "metadata": {},
   "outputs": [],
   "source": [
    "@btime qn(3)([1.5,-2,0.5])"
   ]
  },
  {
   "cell_type": "markdown",
   "metadata": {},
   "source": [
    "### grid_0(n::Int)::Array{Int64,2}\n",
    "Genera un *complesso cellulare 0D* (punti) concatenando 0-celle ugualmente distanziate a intervalli unitari.\n",
    "\n",
    "La funzione `hcat` si occupa di concatenare array per colonna, riceve in input un array di array contenenti un solo elemento rappresentante un punto.\n",
    "\n",
    "`grid_0` ritorna questo 0-complesso in forma `Array{Int64,2}."
   ]
  },
  {
   "cell_type": "code",
   "execution_count": null,
   "metadata": {},
   "outputs": [],
   "source": [
    "function grid_0(n::Int)::Array{Int64,2}\n",
    "    return hcat([[i] for i in range(0, length=n+1)]...)\n",
    "end"
   ]
  },
  {
   "cell_type": "code",
   "execution_count": null,
   "metadata": {},
   "outputs": [],
   "source": [
    "@btime grid_0(5)"
   ]
  },
  {
   "cell_type": "markdown",
   "metadata": {},
   "source": [
    "### grid_1(n::Int)::Array{Int64,2}\n",
    "Funzione gemella di `grid_0` genera un *complesso cellulare 1D* (segmenti) concatenando 1-celle ugualmente distanziate a intervalli unitari.\n",
    "\n",
    "Facendo uso della funzione `hcat` concatena array di lunghezza 2, ognuno rappresentante un segmento e le sue due estremità.\n",
    "\n",
    "`grid_1` ritorna questo 1-complesso in forma `Array{Int64,2}`."
   ]
  },
  {
   "cell_type": "code",
   "execution_count": null,
   "metadata": {},
   "outputs": [],
   "source": [
    "function grid_1(n)\n",
    "    return hcat([[i,i+1] for i in range(0, length=n)]...)\n",
    "end"
   ]
  },
  {
   "cell_type": "code",
   "execution_count": null,
   "metadata": {},
   "outputs": [],
   "source": [
    "@btime grid_1(5)"
   ]
  },
  {
   "cell_type": "markdown",
   "metadata": {},
   "source": [
    "### larGrid(n::Int)(d::Int)::Array{Int64,2}\n",
    "Genera un *complesso cellulare 0D* oppure *un complesso cellulare 1D* a seconda del parametro `d` per cui sono accettati valori dal set ``{0,1}``.\n",
    "\n",
    "`larGrid` fa uso delle funzioni `grid_0` e `grid_1` per generare i due tipi di complessi."
   ]
  },
  {
   "cell_type": "code",
   "execution_count": null,
   "metadata": {},
   "outputs": [],
   "source": [
    "function larGrid(n::Int)\n",
    "    function larGrid1(d::Int)::Array{Int64,2}\n",
    "        if d==0\n",
    "         return grid_0(n)\n",
    "        elseif d==1\n",
    "         return grid_1(n)\n",
    "        end\n",
    "    end\n",
    "    return larGrid1\n",
    "end"
   ]
  },
  {
   "cell_type": "code",
   "execution_count": null,
   "metadata": {},
   "outputs": [],
   "source": [
    "@btime larGrid(5)(1)"
   ]
  },
  {
   "cell_type": "markdown",
   "metadata": {},
   "source": [
    "### cart(args::Array{Array{Any,1},1})::Array{Tuple,1}\n",
    "Funzione che esegue il prodotto cartesiano delle collezioni inserite nell' array in input. Restituisce un `Array` di `Tuple`. Il numero di \n",
    " unary `Array` argument. Return an `Array` of `Tuple`. The number `Tuple` restituito equivale al prodotto delle dimensione delle collezioni date in input.\n",
    " \n",
    "Il metodo `product` ritorna un iteratore del prodotto di vari iteratori. Restituisce tutte le combinazioni possibili degli elementi delle collezioni in input sottoforma di `Tuple`.\n",
    "`collect` trasforma l'output di `product` in un array i cui elementi vengono concatenati per riga dal metodo `vcat`.\n"
   ]
  },
  {
   "cell_type": "code",
   "execution_count": null,
   "metadata": {},
   "outputs": [],
   "source": [
    "function cart(args)::Array{Tuple,1}\n",
    "    return sort(vcat(collect(Iterators.product(args...))...))\n",
    " end"
   ]
  },
  {
   "cell_type": "code",
   "execution_count": null,
   "metadata": {
    "scrolled": true
   },
   "outputs": [],
   "source": [
    "@btime cart([[1,2],[\"a\"],[3,4]])"
   ]
  },
  {
   "cell_type": "markdown",
   "metadata": {},
   "source": [
    "### larVertProd(vertLists::Array{Points,1})::Points\n",
    "Genera le coordinate intere (0-celle) di una *griglia multidimensionale*\n",
    "Viene effettuato il prodotto cartesiano dei vertici contenuti in `vertLists` con la funzione `cart`. Le tuple restituite sono poi trasformate in formato Array per ottenere `coords`, una collezione di array bidimensionali. L'output è poi modificato nella forma dalle funzioni `hcat` e `sortslices`.\n",
    "\n",
    "Sono messe a disposizione due versione della funzione `larVertProd`, che accettano rispettivamente `Array{Array{Int64,2},1}` e `Array{Float64,2},1}` come argomento"
   ]
  },
  {
   "cell_type": "code",
   "execution_count": null,
   "metadata": {},
   "outputs": [],
   "source": [
    "function larVertProd(vertLists::Array{Array{Int64,2},1})::Array{Int64,2}\n",
    "    coords = [[x[1] for x in v] for v in Lar.cart(vertLists)]\n",
    "    return sortslices(hcat(coords...), dims=2)\n",
    " end\n",
    " function larVertProd(vertLists::Array{Array{Float64,2},1})::Array{Float64,2}\n",
    "    coords = [[x[1] for x in v] for v in Lar.cart(vertLists)]\n",
    "    return sortslices(hcat(coords...), dims=2)\n",
    " end"
   ]
  },
  {
   "cell_type": "code",
   "execution_count": null,
   "metadata": {},
   "outputs": [],
   "source": [
    "@btime larVertProd([larGrid(2)(0), larGrid(2)(0)])"
   ]
  },
  {
   "cell_type": "markdown",
   "metadata": {},
   "source": [
    "### index2addr(shape::Array{Int64,1})(multiIndex)::Int\n",
    "Funzione che trasforma un *Multi-index in un indirizzo*. Multi-index è un generalizzazione del concetto di trasformazione di un indice intero in un *insieme ordinato di tuple di indici*. \n",
    "La funzione `index2addr` trasforma una lista di `shape` per un *array multidimensionale* in una funzione che, quando applicata ad un *array multi-index*, ad esempio una lista di interi di `Tuple` senza limiti di `shape`, ritorna gli *indirizzi interi* delle componenti dell'array corrispondenti all'interno della *memoria lineare* dell'array multidimensionale.\n"
   ]
  },
  {
   "cell_type": "code",
   "execution_count": null,
   "metadata": {},
   "outputs": [],
   "source": [
    "function index2addr( shape::Array{Int64,2} )\n",
    "    n = length(shape)\n",
    "    theShape = append!(shape[2:end],1)\n",
    "    weights = [prod(theShape[k:end]) for k in range(1, length=n)]\n",
    "\n",
    "    function index2addr0( multiIndex::Array{Int,1} )::Int\n",
    "        return dot(collect(multiIndex), weights) + 1\n",
    "    end\n",
    "\n",
    "    return index2addr0\n",
    "end"
   ]
  },
  {
   "cell_type": "code",
   "execution_count": null,
   "metadata": {},
   "outputs": [],
   "source": [
    "@btime index2addr([2,7])([1,4])"
   ]
  },
  {
   "cell_type": "markdown",
   "metadata": {},
   "source": [
    "### larCellProd(cellLists::Array{Cells,1})::Cells\n",
    "Genera una *griglia cellulare* dal *prodotto Cartesiano* di complessi 0/1-dimensionali.\n",
    "Il complesso di output è generato dal prodotto di un qualsiasi numero di complessi cellulari 0- oppure 1-dimensionali. Il prodotto di ``d`` complessi 1-dimensionali generano un *solido ``d``-cellulare*, mentre il prodotto di ``n`` complesso 0-dimensionali e ``n-d`` complessi 1-dimensionali (``d < n``) generano un *Non-solido ``(n-d)``-cellulare*, inserito nel spazio ``n``-dimensionale."
   ]
  },
  {
   "cell_type": "code",
   "execution_count": null,
   "metadata": {},
   "outputs": [],
   "source": [
    "function larCellProd(cellLists::Array{Cells,1})::Cells\n",
    "    shapes = [length(item) for item in cellLists]\n",
    "    subscripts = cart([collect(range(0, length=shape)) for shape in shapes])\n",
    "    indices = [collect(tuple) .+ 1 for tuple in subscripts]\n",
    " \n",
    "    jointCells = [cart([cells[k] for (k,cells) in zip(index,cellLists)])\n",
    "                    for index in indices]\n",
    "    convertIt = index2addr([ (length(cellLists[k][1]) > 1) ? shape .+ 1 : shape\n",
    "       for (k,shape) in enumerate(shapes) ])\n",
    "    [vcat(map(convertIt, map(collect,jointCells[j]))...) for j in 1:length(jointCells)]\n",
    " end"
   ]
  },
  {
   "cell_type": "code",
   "execution_count": null,
   "metadata": {},
   "outputs": [],
   "source": [
    "c1 = [[0,1],[1,2],[2,3]]\n",
    "c0 = [[0],[1],[2]]\n",
    "@btime larCellProd([c1, c1, c0])"
   ]
  },
  {
   "cell_type": "markdown",
   "metadata": {},
   "source": [
    "### filterByOrder( n::Int )Array{Array{Array{Int8,1},1},1}\n",
    "Filtra l'array di codici binari di n bit in base alla somma dei loro valori interi.\n",
    "\n",
    "La variabile `terms` è una collezione di tutte le possibili combinazioni (array) di valori `0,1` con n (valore in input) a disposizione.\n",
    "\n",
    "Questa collezione è poi restituita in forma ordinata in base alla somma dei valori degli array contenenti le combinazioni.\n",
    "\n",
    "Prima riga: somma = 1,\n",
    "Seconda riga: somma =2,\n",
    "    ...\n",
    "N-esima riga = somma = n"
   ]
  },
  {
   "cell_type": "code",
   "execution_count": null,
   "metadata": {},
   "outputs": [],
   "source": [
    "function filterByOrder(n::Int)Array{Array{Array{Int8,1},1},1}\n",
    "    terms = [[parse(Int8,bit) for bit in collect(term)] for term in Lar.binaryRange(n)]\n",
    "    return [[term for term in terms if sum(term) == k] for k in 0:n]\n",
    " end"
   ]
  },
  {
   "cell_type": "code",
   "execution_count": null,
   "metadata": {},
   "outputs": [],
   "source": [
    "@btime filterByOrder(2)"
   ]
  },
  {
   "cell_type": "markdown",
   "metadata": {},
   "source": [
    "### larGridSkeleton( shape::Array{Int,1} )( d::Int )::Cells\n",
    "Genera il `d`-scheletro di una griglia cuboidale con una data `shape`.\n",
    "\n",
    "Ricordiamo che  il `d`-scheletro di un `p`-complesso cellulare (d<=p) è l'insieme delle `d`-celle che compongono il `p`-complesso. È quindi un suo sottocomplesso."
   ]
  },
  {
   "cell_type": "code",
   "execution_count": null,
   "metadata": {},
   "outputs": [],
   "source": [
    "function larGridSkeleton(shape)\n",
    "    n = length(shape)\n",
    "    function larGridSkeleton0( d::Int )::Cells\n",
    "\n",
    "    \t@assert d<=n\n",
    "\n",
    "        components = filterByOrder(n)[d .+ 1]\n",
    "        apply(fun,a) = fun(a)\n",
    "\t\tcomponentCellLists = [ [map(f,x)  for (f,x) in  zip( [larGrid(dim)\n",
    "\t\t\tfor dim in shape], convert(Array{Int64,1},component) ) ]\n",
    "\t\t\t\tfor component in components ]\n",
    "        colList(arr) = [arr[:,k]  for k in 1:size(arr,2)]\n",
    "        out = [ larCellProd(map(colList,cellLists)) for cellLists in componentCellLists ]\n",
    "        return vcat(out...)\n",
    "    end\n",
    "    return larGridSkeleton0\n",
    "end"
   ]
  },
  {
   "cell_type": "code",
   "execution_count": null,
   "metadata": {},
   "outputs": [],
   "source": [
    "@btime larGridSkeleton([1,1,1])(3)"
   ]
  },
  {
   "cell_type": "markdown",
   "metadata": {},
   "source": [
    "### larImageVerts(shape::Array{Int,1})::Array{Int64,2}\n",
    "Linearizza la *grid of integer vertices*, data la `shape` di una *griglia cuboidale*."
   ]
  },
  {
   "cell_type": "code",
   "execution_count": null,
   "metadata": {},
   "outputs": [],
   "source": [
    "function larImageVerts( shape::Array{Int,1} )::Array{Int64,2}\n",
    "    vertexDomain(n) = hcat([k for k in 0:n-1]...)\n",
    "    vertLists = [vertexDomain(k+1) for k in shape]\n",
    "    vertGrid = larVertProd(vertLists)\n",
    "    return vertGrid\n",
    " end"
   ]
  },
  {
   "cell_type": "code",
   "execution_count": null,
   "metadata": {},
   "outputs": [],
   "source": [
    "@btime larImageVerts([2,2,2])"
   ]
  },
  {
   "cell_type": "markdown",
   "metadata": {},
   "source": [
    "### cuboidGrid( shape, filled=false )::Union( Cells, Array{Cells,1} )\n",
    "Funzione generatrice multidimensionale. \n",
    "Genera o una griglia ``d``-dimensionale solida di ``d``-cuboidi nello spazio ``d``-dimensionale oppure l’array dello scheletro di dimensione ``p``, questo dipende dalla variabile Booleana `filled` in input. ``0``-cuboidi sono punti, ``1``-cuboidi sono segmenti, ``2``-cuboidi sono quadrati,  ``3``-cuboidi sono cubi, etc. I valori di `shape=[a,b,c]` determinano il numero ``a x b x c`` di ``d``-cellulari. Inoltre, `d = length(shape)`."
   ]
  },
  {
   "cell_type": "code",
   "execution_count": null,
   "metadata": {},
   "outputs": [],
   "source": [
    "function cuboidGrid( shape, filled=false )\n",
    "    vertGrid = larImageVerts(shape)\n",
    "    gridMap = larGridSkeleton(shape)\n",
    "    if ! filled\n",
    "       cells = gridMap(length(shape))\n",
    "    else\n",
    "       skeletonIds = 0:length(shape)\n",
    "       cells = [ gridMap(id) for id in skeletonIds ]\n",
    "    end\n",
    "    return convert(Array{Float64,2},vertGrid), cells\n",
    " end"
   ]
  },
  {
   "cell_type": "code",
   "execution_count": null,
   "metadata": {},
   "outputs": [],
   "source": [
    "@btime cuboidGrid([3,2,1],true)"
   ]
  },
  {
   "cell_type": "markdown",
   "metadata": {},
   "source": [
    "### larModelProduct(modelOne, modelTwo)::Lar.LAR\n",
    "La funzione prende in input due *Modelli LAR* e ne restituisce il loro *prodotto Cartesiano*.\n",
    "Un *Modello Lar* è una coppia Geometria, Topologia dove la Geometria descrive come l'oggetto è immerso nello spazio mentre la Topologia è l'insieme di quelle relazioni come spigoli forniti attraverso i vertici, facce fornite attraverso i vertici e celle tridimensionali fornite attraverso i vertici.\n",
    "Fondamentalmente un *Modello Lar* è una coppia di oggetti di coordinate e relazioni di adiacenza e incidenza tra celle."
   ]
  },
  {
   "cell_type": "code",
   "execution_count": null,
   "metadata": {},
   "outputs": [],
   "source": [
    "function larModelProduct( modelOne, modelTwo )\n",
    "    (V, cells1) = modelOne\n",
    "    (W, cells2) = modelTwo\n",
    "\n",
    "    vertices = DataStructures.OrderedDict();\n",
    "    k = 1\n",
    "    for j in 1:size(V,2)\n",
    "       v = V[:,j]\n",
    "        for i in 1:size(W,2)\n",
    "          w = W[:,i]\n",
    "            id = [v;w]\n",
    "            if haskey(vertices, id) == false\n",
    "                vertices[id] = k\n",
    "                k = k + 1\n",
    "            end\n",
    "        end\n",
    "    end\n",
    "\n",
    "    cells = []\n",
    "    for c1 in cells1\n",
    "        for c2 in cells2\n",
    "            cell = []\n",
    "            for vc in c1\n",
    "                for wc in c2\n",
    "                    push!(cell, vertices[[V[:,vc];W[:,wc]]] )\n",
    "                end\n",
    "            end\n",
    "            push!(cells, cell)\n",
    "        end\n",
    "    end\n",
    "\n",
    "\n",
    "    vertexmodel = []\n",
    "    for v in keys(vertices)\n",
    "        push!(vertexmodel, v)\n",
    "    end\n",
    "    verts = hcat(vertexmodel...)\n",
    "    cells = [[v for v in cell] for cell in cells]\n",
    "    return (verts, cells)\n",
    "end"
   ]
  },
  {
   "cell_type": "code",
   "execution_count": null,
   "metadata": {},
   "outputs": [],
   "source": [
    "function larModelProduct( twoModels )\n",
    "    modelOne, modelTwo = twoModels\n",
    "    larModelProduct(modelOne, modelTwo)\n",
    "end"
   ]
  },
  {
   "cell_type": "code",
   "execution_count": null,
   "metadata": {},
   "outputs": [],
   "source": [
    "geom,topol = [0. 1. 2.], [[1,2],[2,3]]\n",
    "mod = (geom,topol)\n",
    "@btime larModelProduct(mod, mod)"
   ]
  },
  {
   "cell_type": "markdown",
   "metadata": {},
   "source": [
    "### INSR(f::Function)(seq::Array{Any,1})::Any\n",
    "Trasforma una funzione binaria in una funzione n-aria."
   ]
  },
  {
   "cell_type": "code",
   "execution_count": null,
   "metadata": {},
   "outputs": [],
   "source": [
    "function INSR(f)\n",
    "\tfunction INSR0(seq)\n",
    "\t\tlen = length(seq)\n",
    "\t\tres = seq[end]\n",
    "\t\tfor i in range(len-2,step=-1,stop=0)\n",
    "\t\t\tres = f([seq[i+1], res])\n",
    "\t\tend\n",
    "\t\treturn res\n",
    "\tend\n",
    "\treturn INSR0\n",
    "end"
   ]
  },
  {
   "cell_type": "code",
   "execution_count": null,
   "metadata": {},
   "outputs": [],
   "source": [
    "mod1D = grid(repeat([.1,-.1],outer=5)...)\n",
    "@btime INSR(larModelProduct)([mod1D,mod1D])"
   ]
  }
 ],
 "metadata": {
  "kernelspec": {
   "display_name": "Julia 1.6.6",
   "language": "julia",
   "name": "julia-1.6"
  },
  "language_info": {
   "file_extension": ".jl",
   "mimetype": "application/julia",
   "name": "julia",
   "version": "1.6.6"
  }
 },
 "nbformat": 4,
 "nbformat_minor": 2
}
