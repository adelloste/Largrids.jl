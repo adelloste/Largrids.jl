{
 "cells": [
  {
   "cell_type": "code",
   "execution_count": null,
   "metadata": {},
   "outputs": [],
   "source": [
    "using ViewerGL, LinearAlgebra\n",
    "GL = ViewerGL\n",
    "using LinearAlgebraicRepresentation\n",
    "Lar = LinearAlgebraicRepresentation\n",
    "\n",
    "using Plasm"
   ]
  },
  {
   "cell_type": "code",
   "execution_count": null,
   "metadata": {},
   "outputs": [],
   "source": [
    "function testarrangement(V,CV,FV,EV)\n",
    "\t\tcop_EV = Lar.coboundary_0(EV::Lar.Cells);\n",
    "\t\tcop_FE = Lar.coboundary_1(V, FV::Lar.Cells, EV::Lar.Cells);\n",
    "\t\tW = convert(Lar.Points, V');\n",
    "\n",
    "#\t\tV, copEV, copFE, copCF = Lar.Arrangement.spatial_arrangement(\n",
    "\t\tV, copEV, copFE, copCF = Lar.space_arrangement(\n",
    "\t\t\t\tW::Lar.Points, cop_EV::Lar.ChainOp, cop_FE::Lar.ChainOp);\n",
    "\t\t\t\t\n",
    "\t\t@show \"$(size(V,2)) - $(size(copEV, 1)) + $(size(copFE, 1)) - $(size(copCF, 1))\" \n",
    "\n",
    "\n",
    "\t\tV = convert(Lar.Points, V');\n",
    "\t\tV,CVs,FVs,EVs = Lar.pols2tria(V, copEV, copFE, copCF) # whole assembly\n",
    "\t\tGL.VIEW(GL.GLExplode(V,FVs,1.1,1.1,1.1,99,1));\n",
    "\t\tGL.VIEW(GL.GLExplode(V,EVs,1.5,1.5,1.5,99,1));\n",
    "\t\tGL.VIEW(GL.GLExplode(V,CVs,1,1,1,99,1));\n",
    "end\n"
   ]
  },
  {
   "cell_type": "code",
   "execution_count": null,
   "metadata": {},
   "outputs": [],
   "source": [
    "# primo, secondo e terzo cubo  => KO \n",
    "\n",
    "V = [0.6540618 0.7142365 0.5941251 0.6542998 1.3260341 1.3862088 1.2660973 1.326272 -0.3874063 0.3249123 -0.1702819 0.5420367 -0.317917 0.3944016 -0.1007926 0.611526 0.7899026 0.46601 0.804323 0.4804304 0.7905452 0.4666527 0.8049656 0.4810731 -0.2261907 -0.0499888 -0.0677963 0.1084056 0.0988343 0.2750362 0.2572286 0.4334306; 0.2054992 0.1455625 0.8769965 0.8170598 0.2707609 0.2108241 0.9422582 0.8823214 0.4902226 0.707347 -0.0864242 0.1307001 0.0663064 0.2834308 -0.5103404 -0.2932161 0.0605793 0.0749997 0.3844725 0.3988929 0.060565 0.0749854 0.3844582 0.3988786 -0.0720455 0.0863489 0.219164 0.3775584 -0.2998291 -0.1414347 -0.0086196 0.1497748; 0.2972308 0.969203 0.3624924 1.0344647 0.2428771 0.9148494 0.3081388 0.980111 0.4536339 0.5231232 0.0297177 0.099207 1.0658723 1.1353616 0.6419561 0.7114454 0.6679889 0.6686316 0.6679746 0.6686173 0.9922023 0.992845 0.992188 0.9928307 0.4715635 0.7965885 0.24378 0.5688049 0.4063673 0.7313923 0.1785838 0.5036087]\n",
    "\n",
    "\n",
    "CV = [[1, 2, 3, 4, 5, 6, 7, 8], [9, 10, 11, 12, 13, 14, 15, 16], [17, 18, 19, 20, 21, 22, 23, 24]]\n",
    "\n",
    "FV = [[1, 2, 3, 4], [5, 6, 7, 8], [1, 2, 5, 6], [3, 4, 7, 8], [1, 3, 5, 7], [2, 4, 6, 8], [9, 10, 11, 12], [13, 14, 15, 16], [9, 10, 13, 14], [11, 12, 15, 16], [9, 11, 13, 15], [10, 12, 14, 16], [17, 18, 19, 20], [21, 22, 23, 24], [17, 18, 21, 22], [19, 20, 23, 24], [17, 19, 21, 23], [18, 20, 22, 24]]\n",
    "\n",
    "EV = [[1, 2], [3, 4], [5, 6], [7, 8], [1, 3], [2, 4], [5, 7], [6, 8], [1, 5], [2, 6], [3, 7], [4, 8], [9, 10], [11, 12], [13, 14], [15, 16], [9, 11], [10, 12], [13, 15], [14, 16], [9, 13], [10, 14], [11, 15], [12, 16], [17, 18], [19, 20], [21, 22], [23, 24], [17, 19], [18, 20], [21, 23], [22, 24], [17, 21], [18, 22], [19, 23], [20, 24]]\n",
    "\n",
    "testarrangement(V,CV,FV,EV);\n"
   ]
  }
 ],
 "metadata": {
  "kernelspec": {
   "display_name": "Julia 1.5.2",
   "language": "julia",
   "name": "julia-1.5"
  },
  "language_info": {
   "file_extension": ".jl",
   "mimetype": "application/julia",
   "name": "julia",
   "version": "1.5.4"
  }
 },
 "nbformat": 4,
 "nbformat_minor": 2
}
